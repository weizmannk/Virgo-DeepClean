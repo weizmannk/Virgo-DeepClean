{
 "cells": [
  {
   "cell_type": "code",
   "execution_count": 46,
   "id": "a5b0d3a5-2c4d-45bd-bfde-3ece5a3fee14",
   "metadata": {},
   "outputs": [],
   "source": [
    "from utils import *\n",
    "import matplotlib.pyplot as plt\n",
    "import numpy as np\n",
    "%matplotlib inline\n",
    "plt.style.use('dark_background')"
   ]
  },
  {
   "cell_type": "code",
   "execution_count": null,
   "id": "5fa8d8b7-7411-4dea-8c65-13bfa3d41876",
   "metadata": {},
   "outputs": [],
   "source": []
  },
  {
   "cell_type": "code",
   "execution_count": null,
   "id": "6ece8cd7-a85f-4c86-bd3a-9b519fc25ce2",
   "metadata": {},
   "outputs": [],
   "source": []
  },
  {
   "cell_type": "code",
   "execution_count": 47,
   "id": "508a7d3e-dce1-4433-8472-91783f281ad7",
   "metadata": {},
   "outputs": [],
   "source": [
    "datadir = \"/home/weizmann.kiendrebeogo/DeepClean/DeepClean_CIT/Friday_Work/15_415_Hz/data\"\n",
    "dc_noise_only        = os.path.join(datadir, 'deepclean-NoiseOnly.gwf')\n",
    "dc_noise_plus_signal = os.path.join(datadir, 'deepclean-NoisePlusSignal.gwf')\n",
    "org_noise_only       = os.path.join(datadir, 'original-NoiseOnly.h5')\n",
    "org_noise_plus_signal= os.path.join(datadir, 'original-NoisePlusSignal.h5')\n",
    "signal_only          = os.path.join(datadir, 'GW_injected_signal.hdf5')\n",
    "inj_file             = os.path.join(datadir, 'INJ-1265127585-4096.csv')\n",
    "inj_file_json        = os.path.join(datadir, 'INJ-1265127585-4096.json')\n",
    "\n",
    "\n",
    "channel = 'V1:Hrec_hoft_raw_20000Hz'  # Original Channel channel\n",
    "channel_DC=\"V1:Hrec_hoft_raw_20000Hz_DC\"  # Cleanning channel\n",
    "channel_INJ = \"V1:DC_INJ\"                # Injected GW signal channel\n",
    "\n",
    "injections = pd.read_csv(inj_file)\n"
   ]
  },
  {
   "cell_type": "code",
   "execution_count": 48,
   "id": "23209791-a413-4b10-83ca-b1733318ee4a",
   "metadata": {},
   "outputs": [
    {
     "data": {
      "text/html": [
       "<div>\n",
       "<style scoped>\n",
       "    .dataframe tbody tr th:only-of-type {\n",
       "        vertical-align: middle;\n",
       "    }\n",
       "\n",
       "    .dataframe tbody tr th {\n",
       "        vertical-align: top;\n",
       "    }\n",
       "\n",
       "    .dataframe thead th {\n",
       "        text-align: right;\n",
       "    }\n",
       "</style>\n",
       "<table border=\"1\" class=\"dataframe\">\n",
       "  <thead>\n",
       "    <tr style=\"text-align: right;\">\n",
       "      <th></th>\n",
       "      <th>Unnamed: 0</th>\n",
       "      <th>mass_1</th>\n",
       "      <th>mass_2</th>\n",
       "      <th>luminosity_distance</th>\n",
       "      <th>a_1</th>\n",
       "      <th>a_2</th>\n",
       "      <th>tilt_1</th>\n",
       "      <th>tilt_2</th>\n",
       "      <th>phi_12</th>\n",
       "      <th>phi_jl</th>\n",
       "      <th>dec</th>\n",
       "      <th>ra</th>\n",
       "      <th>theta_jn</th>\n",
       "      <th>psi</th>\n",
       "      <th>phase</th>\n",
       "      <th>geocent_time</th>\n",
       "    </tr>\n",
       "  </thead>\n",
       "  <tbody>\n",
       "    <tr>\n",
       "      <th>0</th>\n",
       "      <td>0</td>\n",
       "      <td>42.030567</td>\n",
       "      <td>18.530512</td>\n",
       "      <td>28.014198</td>\n",
       "      <td>0.635403</td>\n",
       "      <td>0.219302</td>\n",
       "      <td>0.0</td>\n",
       "      <td>0.0</td>\n",
       "      <td>0.0</td>\n",
       "      <td>0.0</td>\n",
       "      <td>0.634939</td>\n",
       "      <td>6.125315</td>\n",
       "      <td>1.962567</td>\n",
       "      <td>2.914671</td>\n",
       "      <td>0.119495</td>\n",
       "      <td>1.265128e+09</td>\n",
       "    </tr>\n",
       "    <tr>\n",
       "      <th>1</th>\n",
       "      <td>1</td>\n",
       "      <td>39.720576</td>\n",
       "      <td>29.641983</td>\n",
       "      <td>26.144564</td>\n",
       "      <td>0.027710</td>\n",
       "      <td>0.529393</td>\n",
       "      <td>0.0</td>\n",
       "      <td>0.0</td>\n",
       "      <td>0.0</td>\n",
       "      <td>0.0</td>\n",
       "      <td>1.434882</td>\n",
       "      <td>0.738772</td>\n",
       "      <td>1.564680</td>\n",
       "      <td>0.862044</td>\n",
       "      <td>5.783510</td>\n",
       "      <td>1.265128e+09</td>\n",
       "    </tr>\n",
       "    <tr>\n",
       "      <th>2</th>\n",
       "      <td>2</td>\n",
       "      <td>45.173655</td>\n",
       "      <td>22.043014</td>\n",
       "      <td>22.870028</td>\n",
       "      <td>0.243097</td>\n",
       "      <td>0.514376</td>\n",
       "      <td>0.0</td>\n",
       "      <td>0.0</td>\n",
       "      <td>0.0</td>\n",
       "      <td>0.0</td>\n",
       "      <td>0.196610</td>\n",
       "      <td>1.471103</td>\n",
       "      <td>1.257515</td>\n",
       "      <td>0.799665</td>\n",
       "      <td>5.370215</td>\n",
       "      <td>1.265128e+09</td>\n",
       "    </tr>\n",
       "    <tr>\n",
       "      <th>3</th>\n",
       "      <td>3</td>\n",
       "      <td>39.404709</td>\n",
       "      <td>17.110272</td>\n",
       "      <td>25.826467</td>\n",
       "      <td>0.642730</td>\n",
       "      <td>0.366012</td>\n",
       "      <td>0.0</td>\n",
       "      <td>0.0</td>\n",
       "      <td>0.0</td>\n",
       "      <td>0.0</td>\n",
       "      <td>0.240871</td>\n",
       "      <td>5.648417</td>\n",
       "      <td>2.901431</td>\n",
       "      <td>1.560858</td>\n",
       "      <td>0.026311</td>\n",
       "      <td>1.265128e+09</td>\n",
       "    </tr>\n",
       "    <tr>\n",
       "      <th>4</th>\n",
       "      <td>4</td>\n",
       "      <td>16.562882</td>\n",
       "      <td>15.807036</td>\n",
       "      <td>28.654613</td>\n",
       "      <td>0.357862</td>\n",
       "      <td>0.475702</td>\n",
       "      <td>0.0</td>\n",
       "      <td>0.0</td>\n",
       "      <td>0.0</td>\n",
       "      <td>0.0</td>\n",
       "      <td>0.361259</td>\n",
       "      <td>1.915428</td>\n",
       "      <td>1.979788</td>\n",
       "      <td>1.240522</td>\n",
       "      <td>4.329420</td>\n",
       "      <td>1.265128e+09</td>\n",
       "    </tr>\n",
       "    <tr>\n",
       "      <th>...</th>\n",
       "      <td>...</td>\n",
       "      <td>...</td>\n",
       "      <td>...</td>\n",
       "      <td>...</td>\n",
       "      <td>...</td>\n",
       "      <td>...</td>\n",
       "      <td>...</td>\n",
       "      <td>...</td>\n",
       "      <td>...</td>\n",
       "      <td>...</td>\n",
       "      <td>...</td>\n",
       "      <td>...</td>\n",
       "      <td>...</td>\n",
       "      <td>...</td>\n",
       "      <td>...</td>\n",
       "      <td>...</td>\n",
       "    </tr>\n",
       "    <tr>\n",
       "      <th>123</th>\n",
       "      <td>123</td>\n",
       "      <td>49.917567</td>\n",
       "      <td>40.643485</td>\n",
       "      <td>28.791054</td>\n",
       "      <td>0.424711</td>\n",
       "      <td>0.630548</td>\n",
       "      <td>0.0</td>\n",
       "      <td>0.0</td>\n",
       "      <td>0.0</td>\n",
       "      <td>0.0</td>\n",
       "      <td>-0.704454</td>\n",
       "      <td>5.807296</td>\n",
       "      <td>1.054161</td>\n",
       "      <td>2.008438</td>\n",
       "      <td>0.250212</td>\n",
       "      <td>1.265132e+09</td>\n",
       "    </tr>\n",
       "    <tr>\n",
       "      <th>124</th>\n",
       "      <td>124</td>\n",
       "      <td>49.076974</td>\n",
       "      <td>45.481267</td>\n",
       "      <td>22.228404</td>\n",
       "      <td>0.972638</td>\n",
       "      <td>0.466465</td>\n",
       "      <td>0.0</td>\n",
       "      <td>0.0</td>\n",
       "      <td>0.0</td>\n",
       "      <td>0.0</td>\n",
       "      <td>0.756937</td>\n",
       "      <td>4.984736</td>\n",
       "      <td>1.212477</td>\n",
       "      <td>1.602900</td>\n",
       "      <td>2.661218</td>\n",
       "      <td>1.265132e+09</td>\n",
       "    </tr>\n",
       "    <tr>\n",
       "      <th>125</th>\n",
       "      <td>125</td>\n",
       "      <td>44.228788</td>\n",
       "      <td>22.594026</td>\n",
       "      <td>24.490308</td>\n",
       "      <td>0.472005</td>\n",
       "      <td>0.060448</td>\n",
       "      <td>0.0</td>\n",
       "      <td>0.0</td>\n",
       "      <td>0.0</td>\n",
       "      <td>0.0</td>\n",
       "      <td>0.726864</td>\n",
       "      <td>3.925614</td>\n",
       "      <td>1.728022</td>\n",
       "      <td>0.636473</td>\n",
       "      <td>1.032388</td>\n",
       "      <td>1.265132e+09</td>\n",
       "    </tr>\n",
       "    <tr>\n",
       "      <th>126</th>\n",
       "      <td>126</td>\n",
       "      <td>40.492081</td>\n",
       "      <td>31.726572</td>\n",
       "      <td>24.222872</td>\n",
       "      <td>0.955521</td>\n",
       "      <td>0.114770</td>\n",
       "      <td>0.0</td>\n",
       "      <td>0.0</td>\n",
       "      <td>0.0</td>\n",
       "      <td>0.0</td>\n",
       "      <td>-1.395982</td>\n",
       "      <td>4.446724</td>\n",
       "      <td>1.298856</td>\n",
       "      <td>0.093919</td>\n",
       "      <td>3.027841</td>\n",
       "      <td>1.265132e+09</td>\n",
       "    </tr>\n",
       "    <tr>\n",
       "      <th>127</th>\n",
       "      <td>127</td>\n",
       "      <td>36.966116</td>\n",
       "      <td>31.502898</td>\n",
       "      <td>28.513039</td>\n",
       "      <td>0.767472</td>\n",
       "      <td>0.436689</td>\n",
       "      <td>0.0</td>\n",
       "      <td>0.0</td>\n",
       "      <td>0.0</td>\n",
       "      <td>0.0</td>\n",
       "      <td>1.056552</td>\n",
       "      <td>1.488862</td>\n",
       "      <td>2.133362</td>\n",
       "      <td>0.088878</td>\n",
       "      <td>1.476154</td>\n",
       "      <td>1.265132e+09</td>\n",
       "    </tr>\n",
       "  </tbody>\n",
       "</table>\n",
       "<p>128 rows × 16 columns</p>\n",
       "</div>"
      ],
      "text/plain": [
       "     Unnamed: 0     mass_1     mass_2  luminosity_distance       a_1  \\\n",
       "0             0  42.030567  18.530512            28.014198  0.635403   \n",
       "1             1  39.720576  29.641983            26.144564  0.027710   \n",
       "2             2  45.173655  22.043014            22.870028  0.243097   \n",
       "3             3  39.404709  17.110272            25.826467  0.642730   \n",
       "4             4  16.562882  15.807036            28.654613  0.357862   \n",
       "..          ...        ...        ...                  ...       ...   \n",
       "123         123  49.917567  40.643485            28.791054  0.424711   \n",
       "124         124  49.076974  45.481267            22.228404  0.972638   \n",
       "125         125  44.228788  22.594026            24.490308  0.472005   \n",
       "126         126  40.492081  31.726572            24.222872  0.955521   \n",
       "127         127  36.966116  31.502898            28.513039  0.767472   \n",
       "\n",
       "          a_2  tilt_1  tilt_2  phi_12  phi_jl       dec        ra  theta_jn  \\\n",
       "0    0.219302     0.0     0.0     0.0     0.0  0.634939  6.125315  1.962567   \n",
       "1    0.529393     0.0     0.0     0.0     0.0  1.434882  0.738772  1.564680   \n",
       "2    0.514376     0.0     0.0     0.0     0.0  0.196610  1.471103  1.257515   \n",
       "3    0.366012     0.0     0.0     0.0     0.0  0.240871  5.648417  2.901431   \n",
       "4    0.475702     0.0     0.0     0.0     0.0  0.361259  1.915428  1.979788   \n",
       "..        ...     ...     ...     ...     ...       ...       ...       ...   \n",
       "123  0.630548     0.0     0.0     0.0     0.0 -0.704454  5.807296  1.054161   \n",
       "124  0.466465     0.0     0.0     0.0     0.0  0.756937  4.984736  1.212477   \n",
       "125  0.060448     0.0     0.0     0.0     0.0  0.726864  3.925614  1.728022   \n",
       "126  0.114770     0.0     0.0     0.0     0.0 -1.395982  4.446724  1.298856   \n",
       "127  0.436689     0.0     0.0     0.0     0.0  1.056552  1.488862  2.133362   \n",
       "\n",
       "          psi     phase  geocent_time  \n",
       "0    2.914671  0.119495  1.265128e+09  \n",
       "1    0.862044  5.783510  1.265128e+09  \n",
       "2    0.799665  5.370215  1.265128e+09  \n",
       "3    1.560858  0.026311  1.265128e+09  \n",
       "4    1.240522  4.329420  1.265128e+09  \n",
       "..        ...       ...           ...  \n",
       "123  2.008438  0.250212  1.265132e+09  \n",
       "124  1.602900  2.661218  1.265132e+09  \n",
       "125  0.636473  1.032388  1.265132e+09  \n",
       "126  0.093919  3.027841  1.265132e+09  \n",
       "127  0.088878  1.476154  1.265132e+09  \n",
       "\n",
       "[128 rows x 16 columns]"
      ]
     },
     "execution_count": 48,
     "metadata": {},
     "output_type": "execute_result"
    }
   ],
   "source": [
    "injections"
   ]
  },
  {
   "cell_type": "code",
   "execution_count": 49,
   "id": "404a96b0-c8bd-4ac1-99e5-4f0da402ef9b",
   "metadata": {},
   "outputs": [
    {
     "data": {
      "text/plain": [
       "{'Unnamed: 0': 10.0,\n",
       " 'mass_1': 22.79431969810341,\n",
       " 'mass_2': 17.17054048528896,\n",
       " 'luminosity_distance': 23.599165125930288,\n",
       " 'a_1': 0.8223844134019179,\n",
       " 'a_2': 0.8473407492982796,\n",
       " 'tilt_1': 0.0,\n",
       " 'tilt_2': 0.0,\n",
       " 'phi_12': 0.0,\n",
       " 'phi_jl': 0.0,\n",
       " 'dec': 0.5979890167603642,\n",
       " 'ra': 2.87987053167516,\n",
       " 'theta_jn': 1.744557408914739,\n",
       " 'psi': 0.6279484238207139,\n",
       " 'phase': 4.911490916568697,\n",
       " 'geocent_time': 1265127905.0}"
      ]
     },
     "execution_count": 49,
     "metadata": {},
     "output_type": "execute_result"
    }
   ],
   "source": [
    "inj_idx = 10\n",
    "injection_parameters = injections.iloc[inj_idx].to_dict()\n",
    "param_dict = injection_parameters\n",
    "param_dict\n"
   ]
  },
  {
   "cell_type": "code",
   "execution_count": 50,
   "id": "5b173c15-f2a6-441b-a96a-cd587f56b2eb",
   "metadata": {},
   "outputs": [
    {
     "data": {
      "text/plain": [
       "1265127905.0"
      ]
     },
     "execution_count": 50,
     "metadata": {},
     "output_type": "execute_result"
    }
   ],
   "source": [
    "param_dict['geocent_time']"
   ]
  },
  {
   "cell_type": "markdown",
   "id": "228b0aec-1220-479c-8fdc-e79675e174ee",
   "metadata": {},
   "source": [
    "## plotting an examples of data "
   ]
  },
  {
   "cell_type": "code",
   "execution_count": 51,
   "id": "59acbbc5-fd46-4182-93ef-8a4f78442c37",
   "metadata": {},
   "outputs": [
    {
     "data": {
      "text/plain": [
       "(1265127904.9, 1265127905.01)"
      ]
     },
     "execution_count": 51,
     "metadata": {},
     "output_type": "execute_result"
    },
    {
     "data": {
      "image/png": "[encoded data removed]",
      "text/plain": [
       "<Figure size 640x480 with 1 Axes>"
      ]
     },
     "metadata": {},
     "output_type": "display_data"
    }
   ],
   "source": [
    "signal = TimeSeries.read(\n",
    "            signal_only, \n",
    "            channel_INJ,\n",
    "            start = param_dict['geocent_time']-4, \n",
    "            end = param_dict['geocent_time']+10\n",
    "        )\n",
    "plt.plot(signal)\n",
    "plt.axvline(param_dict['geocent_time'] , color = 'red')\n",
    "plt.xlim(param_dict['geocent_time']-0.1, param_dict['geocent_time']+0.01)"
   ]
  },
  {
   "cell_type": "markdown",
   "id": "f964c933-ca6f-4276-b0ba-23333b1cff78",
   "metadata": {},
   "source": [
    "# Calculta the PSD original one and the process after DeepClean"
   ]
  },
  {
   "cell_type": "code",
   "execution_count": 73,
   "id": "5c9d6912-3873-4034-bcdf-2cd769e35887",
   "metadata": {},
   "outputs": [],
   "source": [
    "def get_gwpy_mean_psd (psd_data, fs = 4096, \n",
    "                      fftlength=32,\n",
    "                      low_frequency = 16,\n",
    "                      method = 'welch'):\n",
    "    psd = psd_data.psd(fftlength=fftlength,overlap=0.0,method=method)\n",
    "    return np.array(psd.frequencies), np.array(psd.value)"
   ]
  },
  {
   "cell_type": "code",
   "execution_count": 77,
   "id": "cf5e34b4-2379-4604-a48b-a25cbcc76257",
   "metadata": {},
   "outputs": [],
   "source": [
    "psd_file = 'gwpy_psd_deepclean.txt' # 'gwpy_psd_original.txt'\n",
    "psd_data_channel  =  channel_DC #channel \n",
    "psd_data_frame = dc_noise_only  #org_noise_only \n",
    "#inj_idx = 10"
   ]
  },
  {
   "cell_type": "code",
   "execution_count": 78,
   "id": "db17ff3a-a4f5-49fa-8e2e-a16ab5ee52fb",
   "metadata": {},
   "outputs": [],
   "source": [
    "#trigger_time= injections['geocent_time'][inj_idx]\n",
    "\n",
    "#duration = 4\n",
    "#postmerger_duration = 1\n",
    "#psd_duration = 512\n",
    "#premerger_duration = duration - postmerger_duration\n",
    "\n",
    "#start_time = trigger_time - premerger_duration\n",
    "#end_time   = start_time + duration\n",
    "#psd_start_time = start_time + 8\n",
    "psd_end_time = psd_start_time + psd_duration\n",
    "\n",
    "frame_start_time = 1265127585\n",
    "frame_end_time = 1265127585 + 4096"
   ]
  },
  {
   "cell_type": "code",
   "execution_count": null,
   "id": "39271374-2616-466a-9355-8c3ec0713277",
   "metadata": {},
   "outputs": [],
   "source": [
    "psd_data = TimeSeries.read(\n",
    "    psd_data_frame, psd_data_channel, \n",
    "    start = frame_start_time, #psd_start_time, \n",
    "    end = frame_end_time #psd_end_time\n",
    ")\n",
    "\n",
    "psd_gwpy = get_gwpy_mean_psd (\n",
    "    psd_data, \n",
    "    fs = 4096, \n",
    "    low_frequency=15,\n",
    "    fftlength=32, \n",
    "    method = 'welch'\n",
    ")\n",
    "\n",
    "np.savetxt(\n",
    "    fname = psd_file, \n",
    "    X = np.array([ psd_gwpy[0][:-1], psd_gwpy[1][:-1] ]).T\n",
    ")"
   ]
  },
  {
   "cell_type": "markdown",
   "id": "307ed9ae-da9e-4603-9295-dd4902ef2ad2",
   "metadata": {},
   "source": [
    "## There are some misplacements in the way the injections are placed \n",
    "We call this an artifact in the waveform placement in time which has probably been messed up. Right now we fix these offsets by estimating them empirically using a pe on the time parameter and then feeding that offset back to the time parameter in the prior while doing the pe for other parameters so that they are unbiased. \n",
    "\n",
    "## Why is it safe to do so?\n",
    "First of all, this is estimated from a zero noise strain which has only injected signals and no noise. So they have to peak at the true value of the parameters. In other words, the bias is not originated from any noise artifacts.  \n",
    "\n",
    "## How do we know if the bias is only due to the offset?\n",
    "If the bias was caused by some other issues like a spectral leakage or so on, then the waveform morphology will be different than what is predicted for the injected values of the intrinsic parameters. It can not be corrected with an offset in the time. We are seeing that an offset in time is able to completely solve the bias. \n",
    "\n",
    "## If the ra, dec are biased, then a time offset can still fix them \n",
    "In this case, the time offsets will be different for each injection as they have are all with different ra and dec. The problem could also happen if the Virgo antenna pattern is slightly different in different codes, for example, the one used for making injections and the one used here for doing PE. We are using bilby for both but different versions of them. "
   ]
  },
  {
   "cell_type": "markdown",
   "id": "a14f3614-ad4d-43bb-97f6-5a1ef1e2670f",
   "metadata": {},
   "source": [
    "## Not just the time, but the phase as well?\n",
    "\n",
    "Would the time offset alone enough to address the misplacement? The placement of the waveform has two parameters; the time and phase. We still need to see if the phase remains unbiased after correcting the time offset and if needed, do a correction to the phase as well. "
   ]
  },
  {
   "cell_type": "markdown",
   "id": "765b021b-c71b-4d38-af89-efa0f4595166",
   "metadata": {},
   "source": [
    "## Seeing the bias in time for a given injection"
   ]
  },
  {
   "cell_type": "code",
   "execution_count": 9,
   "id": "e12da9ae-0012-4526-b392-a0594f2f9546",
   "metadata": {},
   "outputs": [
    {
     "name": "stderr",
     "output_type": "stream",
     "text": [
      "05:29 bilby INFO    : Waveform generator initiated with\n",
      "  frequency_domain_source_model: bilby.gw.source.lal_binary_black_hole\n",
      "  time_domain_source_model: None\n",
      "  parameter_conversion: bilby.gw.conversion.convert_to_lal_binary_black_hole_parameters\n"
     ]
    },
    {
     "name": "stdout",
     "output_type": "stream",
     "text": [
      "tilt_1 : 0.8223844134019179 ,  tilt_2 : 0.8473407492982796\n"
     ]
    },
    {
     "name": "stderr",
     "output_type": "stream",
     "text": [
      "05:29 bilby INFO    : No prior given, using default BBH priors in /cvmfs/software.igwn.org/conda/envs/igwn-py311/lib/python3.11/site-packages/bilby/gw/prior_files/precessing_spins_bbh.prior.\n"
     ]
    },
    {
     "data": {
      "application/vnd.jupyter.widget-view+json": {
       "model_id": "e278c0dad3c1449488a3e7e838ecd186",
       "version_major": 2,
       "version_minor": 0
      },
      "text/plain": [
       "  0%|          | 0/10000 [00:00<?, ?it/s]"
      ]
     },
     "metadata": {},
     "output_type": "display_data"
    },
    {
     "data": {
      "text/plain": [
       "(1265127904.9998, 1265127905.0002)"
      ]
     },
     "execution_count": 9,
     "metadata": {},
     "output_type": "execute_result"
    },
    {
     "data": {
      "image/png": "[encoded data removed]",
      "text/plain": [
       "<Figure size 640x480 with 1 Axes>"
      ]
     },
     "metadata": {},
     "output_type": "display_data"
    }
   ],
   "source": [
    "results = pe_on_grid (inj_idx = 10,\n",
    "                 theta = 'geocent_time', \n",
    "                 injections = injections,\n",
    "                 analysis_data_frame = signal_only,\n",
    "                 analysis_data_channel = channel_INJ,\n",
    "                 psd_data_frame = org_noise_only,\n",
    "                 psd_data_channel = channel,\n",
    "                 psd_file = './gwpy_psd_original.txt',\n",
    "                 det = \"V1\",\n",
    "                 duration = 4,\n",
    "                 postmerger_duration = 1,\n",
    "                 psd_duration = 512,\n",
    "                 sampling_frequency = 2048,\n",
    "                 minimum_frequency = 20,\n",
    "                 maximum_frequency = 800,\n",
    "                 reference_frequency = 20,\n",
    "                 waveform_approximant=\"IMRPhenomPv2\",\n",
    "                 grid_size= 10000,\n",
    "                 geocent_time_correction = 0.000,\n",
    "                 phase_correction=0.0\n",
    "        )\n",
    "time_offset = results[0][np.argmax(results[1])] - results[2]\n",
    "plt.plot(results[0], results[1])\n",
    "plt.axvline(results[2])\n",
    "plt.title(f\"Time offset: {time_offset}\")\n",
    "plt.xlim(results[2]-0.0002, results[2]+0.0002)\n"
   ]
  },
  {
   "cell_type": "code",
   "execution_count": 10,
   "id": "219e9339-9391-4ba5-9623-bcec6ef4fbc7",
   "metadata": {},
   "outputs": [
    {
     "name": "stderr",
     "output_type": "stream",
     "text": [
      "05:30 bilby INFO    : Waveform generator initiated with\n",
      "  frequency_domain_source_model: bilby.gw.source.lal_binary_black_hole\n",
      "  time_domain_source_model: None\n",
      "  parameter_conversion: bilby.gw.conversion.convert_to_lal_binary_black_hole_parameters\n",
      "05:30 bilby INFO    : No prior given, using default BBH priors in /cvmfs/software.igwn.org/conda/envs/igwn-py311/lib/python3.11/site-packages/bilby/gw/prior_files/precessing_spins_bbh.prior.\n"
     ]
    },
    {
     "name": "stdout",
     "output_type": "stream",
     "text": [
      "tilt_1 : 0.8223844134019179 ,  tilt_2 : 0.8473407492982796\n"
     ]
    },
    {
     "data": {
      "application/vnd.jupyter.widget-view+json": {
       "model_id": "8390afafc3834741961961639c99e48f",
       "version_major": 2,
       "version_minor": 0
      },
      "text/plain": [
       "  0%|          | 0/10000 [00:00<?, ?it/s]"
      ]
     },
     "metadata": {},
     "output_type": "display_data"
    }
   ],
   "source": [
    "results = pe_on_grid (inj_idx = 10,\n",
    "                 theta = 'phase', \n",
    "                 injections = injections,\n",
    "                 analysis_data_frame = signal_only,\n",
    "                 analysis_data_channel = channel_INJ,\n",
    "                 psd_data_frame = org_noise_only,\n",
    "                 psd_data_channel = channel,\n",
    "                 psd_file = './gwpy_psd_original.txt',\n",
    "                 det = \"V1\",\n",
    "                 duration = 4,\n",
    "                 postmerger_duration = 1,\n",
    "                 psd_duration = 512,\n",
    "                 sampling_frequency = 2048,\n",
    "                 minimum_frequency = 20,\n",
    "                 maximum_frequency = 800,\n",
    "                 reference_frequency = 20,\n",
    "                 waveform_approximant=\"IMRPhenomPv2\",\n",
    "                 grid_size= 10000, #600,\n",
    "                 geocent_time_correction = time_offset\n",
    "        )\n",
    "phase_offset = results[0][np.argmax(results[1])] - results[2]"
   ]
  },
  {
   "cell_type": "code",
   "execution_count": 89,
   "id": "5e5d9eb8-31d9-43b8-835a-9c67b18a4501",
   "metadata": {},
   "outputs": [
    {
     "data": {
      "text/plain": [
       "Text(0.5, 1.0, 'phase offset: 1.0001000100068325e-05')"
      ]
     },
     "execution_count": 89,
     "metadata": {},
     "output_type": "execute_result"
    },
    {
     "data": {
      "image/png": "[encoded data removed]",
      "text/plain": [
       "<Figure size 640x480 with 1 Axes>"
      ]
     },
     "metadata": {},
     "output_type": "display_data"
    }
   ],
   "source": [
    "plt.plot(results[0], results[1])\n",
    "plt.axvline(results[2])\n",
    "plt.title(f\"phase offset: {phase_offset}\")"
   ]
  },
  {
   "cell_type": "markdown",
   "id": "8ba5ac24-d29c-448c-a63f-89cdeb01b39b",
   "metadata": {},
   "source": [
    "## Feeding the offset back in the pe of other parameters\n",
    "\n",
    "We saw above that the the offset needed in time is :  0.00011706352233886719. We do it below."
   ]
  },
  {
   "cell_type": "markdown",
   "id": "d16f7185-998e-4420-932f-6a23a10a8baf",
   "metadata": {},
   "source": [
    "#### It fixes the bias in the chirpmass"
   ]
  },
  {
   "cell_type": "code",
   "execution_count": 90,
   "id": "7b9ae83d-3f34-43f1-892d-fb864b905c60",
   "metadata": {},
   "outputs": [
    {
     "name": "stderr",
     "output_type": "stream",
     "text": [
      "02:56 bilby INFO    : Waveform generator initiated with\n",
      "  frequency_domain_source_model: bilby.gw.source.lal_binary_black_hole\n",
      "  time_domain_source_model: None\n",
      "  parameter_conversion: bilby.gw.conversion.convert_to_lal_binary_black_hole_parameters\n",
      "02:56 bilby INFO    : No prior given, using default BBH priors in /cvmfs/software.igwn.org/conda/envs/igwn-py311/lib/python3.11/site-packages/bilby/gw/prior_files/precessing_spins_bbh.prior.\n"
     ]
    },
    {
     "data": {
      "application/vnd.jupyter.widget-view+json": {
       "model_id": "8f5dc5babd1c45aaa6a9dd7b6f7f1e86",
       "version_major": 2,
       "version_minor": 0
      },
      "text/plain": [
       "  0%|          | 0/10000 [00:00<?, ?it/s]"
      ]
     },
     "metadata": {},
     "output_type": "display_data"
    }
   ],
   "source": [
    "results = pe_on_grid (inj_idx = 10,\n",
    "                 theta = 'chirp_mass', \n",
    "                 injections = injections,\n",
    "                 analysis_data_frame = signal_only,\n",
    "                 analysis_data_channel = channel_INJ,\n",
    "                 psd_data_frame = org_noise_only,\n",
    "                 psd_data_channel = channel,\n",
    "                 psd_file = './gwpy_psd_original.txt',\n",
    "                 det = \"V1\",\n",
    "                 duration = 4,\n",
    "                 postmerger_duration = 1,\n",
    "                 psd_duration = 512,\n",
    "                 sampling_frequency = 2048,\n",
    "                 minimum_frequency = 20,\n",
    "                 maximum_frequency = 800,\n",
    "                 reference_frequency = 20,\n",
    "                 waveform_approximant=\"IMRPhenomPv2\",\n",
    "                 grid_size=10000, # 500,\n",
    "                 geocent_time_correction = time_offset,\n",
    "                 phase_correction=phase_offset\n",
    "        )"
   ]
  },
  {
   "cell_type": "code",
   "execution_count": 91,
   "id": "48b82061-e103-4382-ba44-640f81864df2",
   "metadata": {},
   "outputs": [
    {
     "name": "stderr",
     "output_type": "stream",
     "text": [
      "/cvmfs/software.igwn.org/conda/envs/igwn-py311/lib/python3.11/site-packages/gwpy/plot/axes.py:78: UserWarning: Attempting to set identical low and high xlims makes transformation singular; automatically expanding.\n",
      "  return func(self, **kw)\n"
     ]
    },
    {
     "data": {
      "text/plain": [
       "(16.30980137567281, 18.026622573112054)"
      ]
     },
     "execution_count": 91,
     "metadata": {},
     "output_type": "execute_result"
    },
    {
     "data": {
      "image/png": "[encoded data removed]",
      "text/plain": [
       "<Figure size 640x480 with 1 Axes>"
      ]
     },
     "metadata": {},
     "output_type": "display_data"
    }
   ],
   "source": [
    "plt.plot(results[0], results[1])\n",
    "plt.axvline(results[2])\n",
    "plt.xlim(results[2]-0.02, results[2]-0.02)"
   ]
  },
  {
   "cell_type": "code",
   "execution_count": 92,
   "id": "c13cdc68-4ec6-4880-828b-c05b87153f50",
   "metadata": {},
   "outputs": [
    {
     "name": "stderr",
     "output_type": "stream",
     "text": [
      "03:12 bilby INFO    : Waveform generator initiated with\n",
      "  frequency_domain_source_model: bilby.gw.source.lal_binary_black_hole\n",
      "  time_domain_source_model: None\n",
      "  parameter_conversion: bilby.gw.conversion.convert_to_lal_binary_black_hole_parameters\n",
      "03:12 bilby INFO    : No prior given, using default BBH priors in /cvmfs/software.igwn.org/conda/envs/igwn-py311/lib/python3.11/site-packages/bilby/gw/prior_files/precessing_spins_bbh.prior.\n"
     ]
    },
    {
     "data": {
      "application/vnd.jupyter.widget-view+json": {
       "model_id": "a3c5391c32b54b93af0f8a01564850d5",
       "version_major": 2,
       "version_minor": 0
      },
      "text/plain": [
       "  0%|          | 0/10000 [00:00<?, ?it/s]"
      ]
     },
     "metadata": {},
     "output_type": "display_data"
    },
    {
     "data": {
      "text/plain": [
       "(0.743281550522327, 0.763281550522327)"
      ]
     },
     "execution_count": 92,
     "metadata": {},
     "output_type": "execute_result"
    },
    {
     "data": {
      "image/png": "[encoded data removed]",
      "text/plain": [
       "<Figure size 640x480 with 1 Axes>"
      ]
     },
     "metadata": {},
     "output_type": "display_data"
    }
   ],
   "source": [
    "results = pe_on_grid (inj_idx = 10,\n",
    "                 theta = 'mass_ratio', \n",
    "                 injections = injections,\n",
    "                 analysis_data_frame = signal_only,\n",
    "                 analysis_data_channel = channel_INJ,\n",
    "                 psd_data_frame = org_noise_only,\n",
    "                 psd_data_channel = channel,\n",
    "                 psd_file = './gwpy_psd_original.txt',\n",
    "                 det = \"V1\",\n",
    "                 duration = 4,\n",
    "                 postmerger_duration = 1,\n",
    "                 psd_duration = 512,\n",
    "                 sampling_frequency = 2048,\n",
    "                 minimum_frequency = 20,\n",
    "                 maximum_frequency = 800,\n",
    "                 reference_frequency = 20,\n",
    "                 waveform_approximant=\"IMRPhenomPv2\",\n",
    "                 grid_size= 10000, #1000,\n",
    "                 geocent_time_correction = time_offset,\n",
    "                 phase_correction=phase_offset\n",
    "        )\n",
    "plt.plot(results[0], results[1])\n",
    "plt.axvline(results[2])\n",
    "plt.xlim(results[2]-0.01, results[2]+0.01)"
   ]
  },
  {
   "cell_type": "code",
   "execution_count": 93,
   "id": "e7bd203e-a45e-4368-b071-1d466a137078",
   "metadata": {},
   "outputs": [
    {
     "name": "stderr",
     "output_type": "stream",
     "text": [
      "03:29 bilby INFO    : Waveform generator initiated with\n",
      "  frequency_domain_source_model: bilby.gw.source.lal_binary_black_hole\n",
      "  time_domain_source_model: None\n",
      "  parameter_conversion: bilby.gw.conversion.convert_to_lal_binary_black_hole_parameters\n",
      "03:29 bilby INFO    : No prior given, using default BBH priors in /cvmfs/software.igwn.org/conda/envs/igwn-py311/lib/python3.11/site-packages/bilby/gw/prior_files/precessing_spins_bbh.prior.\n"
     ]
    },
    {
     "data": {
      "application/vnd.jupyter.widget-view+json": {
       "model_id": "ec5e6525b1394a7885260bf8d658e55e",
       "version_major": 2,
       "version_minor": 0
      },
      "text/plain": [
       "  0%|          | 0/10000 [00:00<?, ?it/s]"
      ]
     },
     "metadata": {},
     "output_type": "display_data"
    }
   ],
   "source": [
    "results = pe_on_grid (inj_idx = 10,\n",
    "                 theta = 'luminosity_distance', \n",
    "                 injections = injections,\n",
    "                 analysis_data_frame = signal_only,\n",
    "                 analysis_data_channel = channel_INJ,\n",
    "                 psd_data_frame = org_noise_only,\n",
    "                 psd_data_channel = channel,\n",
    "                 psd_file = './gwpy_psd_original.txt',\n",
    "                 det = \"V1\",\n",
    "                 duration = 4,\n",
    "                 postmerger_duration = 1,\n",
    "                 psd_duration = 512,\n",
    "                 sampling_frequency = 2048,\n",
    "                 minimum_frequency = 20,\n",
    "                 maximum_frequency = 800,\n",
    "                 reference_frequency = 20,\n",
    "                 waveform_approximant=\"IMRPhenomPv2\",\n",
    "                 grid_size= 10000, # 600,\n",
    "                 geocent_time_correction = time_offset,\n",
    "                 phase_correction=phase_offset\n",
    "        )"
   ]
  },
  {
   "cell_type": "code",
   "execution_count": 94,
   "id": "4e503ab2-bffd-49b5-abb6-387e544cfa24",
   "metadata": {},
   "outputs": [
    {
     "data": {
      "text/plain": [
       "(22.599165125930288, 24.599165125930288)"
      ]
     },
     "execution_count": 94,
     "metadata": {},
     "output_type": "execute_result"
    },
    {
     "data": {
      "image/png": "[encoded data removed]",
      "text/plain": [
       "<Figure size 640x480 with 1 Axes>"
      ]
     },
     "metadata": {},
     "output_type": "display_data"
    }
   ],
   "source": [
    "plt.plot(results[0], results[1])\n",
    "plt.axvline(results[2])\n",
    "plt.xlim(results[2]-1, results[2]+1)"
   ]
  },
  {
   "cell_type": "markdown",
   "id": "7d4fd807-0b78-40f4-82db-2660b4af7701",
   "metadata": {},
   "source": [
    "## Try phase offset alone without time offset (found not effective)"
   ]
  },
  {
   "cell_type": "code",
   "execution_count": 95,
   "id": "73439d7b-7ee2-4b71-a572-8340623b6969",
   "metadata": {},
   "outputs": [
    {
     "name": "stderr",
     "output_type": "stream",
     "text": [
      "03:41 bilby INFO    : Waveform generator initiated with\n",
      "  frequency_domain_source_model: bilby.gw.source.lal_binary_black_hole\n",
      "  time_domain_source_model: None\n",
      "  parameter_conversion: bilby.gw.conversion.convert_to_lal_binary_black_hole_parameters\n",
      "03:41 bilby INFO    : No prior given, using default BBH priors in /cvmfs/software.igwn.org/conda/envs/igwn-py311/lib/python3.11/site-packages/bilby/gw/prior_files/precessing_spins_bbh.prior.\n"
     ]
    },
    {
     "data": {
      "application/vnd.jupyter.widget-view+json": {
       "model_id": "36d93a6c5a484d83a6ddb2f3b32f810f",
       "version_major": 2,
       "version_minor": 0
      },
      "text/plain": [
       "  0%|          | 0/10000 [00:00<?, ?it/s]"
      ]
     },
     "metadata": {},
     "output_type": "display_data"
    }
   ],
   "source": [
    "results = pe_on_grid (inj_idx = 10,\n",
    "                 theta = 'phase', \n",
    "                 injections = injections,\n",
    "                 analysis_data_frame = signal_only,\n",
    "                 analysis_data_channel = channel_INJ,\n",
    "                 psd_data_frame = org_noise_only,\n",
    "                 psd_data_channel = channel,\n",
    "                 psd_file = './gwpy_psd_original.txt',\n",
    "                 det = \"V1\",\n",
    "                 duration = 4,\n",
    "                 postmerger_duration = 1,\n",
    "                 psd_duration = 512,\n",
    "                 sampling_frequency = 2048,\n",
    "                 minimum_frequency = 20,\n",
    "                 maximum_frequency = 800,\n",
    "                 reference_frequency = 20,\n",
    "                 waveform_approximant=\"IMRPhenomPv2\",\n",
    "                 grid_size= 10000, #600,\n",
    "                 geocent_time_correction = 0,\n",
    "                 phase_correction=0\n",
    "        )\n",
    "phase_offset = results[0][np.argmax(results[1])] - results[2]"
   ]
  },
  {
   "cell_type": "code",
   "execution_count": 96,
   "id": "82295aad-d038-460f-831d-4f06cd8720b4",
   "metadata": {},
   "outputs": [
    {
     "data": {
      "text/plain": [
       "(4.811490916568697, 4.961490916568697)"
      ]
     },
     "execution_count": 96,
     "metadata": {},
     "output_type": "execute_result"
    },
    {
     "data": {
      "image/png": "[encoded data removed]",
      "text/plain": [
       "<Figure size 640x480 with 1 Axes>"
      ]
     },
     "metadata": {},
     "output_type": "display_data"
    }
   ],
   "source": [
    "plt.plot(results[0], results[1])\n",
    "plt.axvline(results[2])\n",
    "plt.xlim(results[2]-0.1, results[2]+0.05)"
   ]
  },
  {
   "cell_type": "code",
   "execution_count": 97,
   "id": "efe23233-b2ff-44b0-a14b-57fc26659617",
   "metadata": {},
   "outputs": [
    {
     "data": {
      "text/plain": [
       "-0.031533153315331575"
      ]
     },
     "execution_count": 97,
     "metadata": {},
     "output_type": "execute_result"
    }
   ],
   "source": [
    "phase_offset"
   ]
  },
  {
   "cell_type": "code",
   "execution_count": 98,
   "id": "5f2f5099-88f6-49af-81ae-61294b8a9982",
   "metadata": {},
   "outputs": [
    {
     "name": "stderr",
     "output_type": "stream",
     "text": [
      "03:59 bilby INFO    : Waveform generator initiated with\n",
      "  frequency_domain_source_model: bilby.gw.source.lal_binary_black_hole\n",
      "  time_domain_source_model: None\n",
      "  parameter_conversion: bilby.gw.conversion.convert_to_lal_binary_black_hole_parameters\n",
      "03:59 bilby INFO    : No prior given, using default BBH priors in /cvmfs/software.igwn.org/conda/envs/igwn-py311/lib/python3.11/site-packages/bilby/gw/prior_files/precessing_spins_bbh.prior.\n"
     ]
    },
    {
     "data": {
      "application/vnd.jupyter.widget-view+json": {
       "model_id": "6555e779fa904c86bd4531d2f4f32293",
       "version_major": 2,
       "version_minor": 0
      },
      "text/plain": [
       "  0%|          | 0/10000 [00:00<?, ?it/s]"
      ]
     },
     "metadata": {},
     "output_type": "display_data"
    },
    {
     "data": {
      "text/plain": [
       "(1265127904.9995, 1265127905.0005)"
      ]
     },
     "execution_count": 98,
     "metadata": {},
     "output_type": "execute_result"
    },
    {
     "data": {
      "image/png": "[encoded data removed]",
      "text/plain": [
       "<Figure size 640x480 with 1 Axes>"
      ]
     },
     "metadata": {},
     "output_type": "display_data"
    }
   ],
   "source": [
    "results = pe_on_grid (inj_idx = 10,\n",
    "                 theta = 'geocent_time', \n",
    "                 injections = injections,\n",
    "                 analysis_data_frame = signal_only,\n",
    "                 analysis_data_channel = channel_INJ,\n",
    "                 psd_data_frame = org_noise_only,\n",
    "                 psd_data_channel = channel,\n",
    "                 psd_file = './gwpy_psd_original.txt',\n",
    "                 det = \"V1\",\n",
    "                 duration = 4,\n",
    "                 postmerger_duration = 1,\n",
    "                 psd_duration = 512,\n",
    "                 sampling_frequency = 2048,\n",
    "                 minimum_frequency = 20,\n",
    "                 maximum_frequency = 800,\n",
    "                 reference_frequency = 20,\n",
    "                 waveform_approximant=\"IMRPhenomPv2\",\n",
    "                 grid_size= 10000 , #5000,\n",
    "                 geocent_time_correction = 0,\n",
    "                 phase_correction=phase_offset\n",
    "        )\n",
    "time_offset = results[0][np.argmax(results[1])] - results[2]\n",
    "\n",
    "plt.plot(results[0], results[1])\n",
    "plt.axvline(results[2])\n",
    "plt.xlim(results[2]-0.0005, results[2]+0.0005)"
   ]
  },
  {
   "cell_type": "code",
   "execution_count": 99,
   "id": "76779691-c625-484e-9986-d9754e00c6f1",
   "metadata": {},
   "outputs": [
    {
     "data": {
      "text/plain": [
       "3.886222839355469e-05"
      ]
     },
     "execution_count": 99,
     "metadata": {},
     "output_type": "execute_result"
    }
   ],
   "source": [
    "time_offset"
   ]
  },
  {
   "cell_type": "code",
   "execution_count": 100,
   "id": "9ab7deae-75bb-451d-8897-902ead5cbd69",
   "metadata": {},
   "outputs": [
    {
     "name": "stderr",
     "output_type": "stream",
     "text": [
      "03:59 bilby INFO    : Waveform generator initiated with\n",
      "  frequency_domain_source_model: bilby.gw.source.lal_binary_black_hole\n",
      "  time_domain_source_model: None\n",
      "  parameter_conversion: bilby.gw.conversion.convert_to_lal_binary_black_hole_parameters\n",
      "03:59 bilby INFO    : No prior given, using default BBH priors in /cvmfs/software.igwn.org/conda/envs/igwn-py311/lib/python3.11/site-packages/bilby/gw/prior_files/precessing_spins_bbh.prior.\n"
     ]
    },
    {
     "data": {
      "application/vnd.jupyter.widget-view+json": {
       "model_id": "e8a1eaa40d8d42a2b1d5355b0c0e2a9d",
       "version_major": 2,
       "version_minor": 0
      },
      "text/plain": [
       "  0%|          | 0/10000 [00:00<?, ?it/s]"
      ]
     },
     "metadata": {},
     "output_type": "display_data"
    },
    {
     "data": {
      "text/plain": [
       "(22.599165125930288, 24.599165125930288)"
      ]
     },
     "execution_count": 100,
     "metadata": {},
     "output_type": "execute_result"
    },
    {
     "data": {
      "image/png": "[encoded data removed]",
      "text/plain": [
       "<Figure size 640x480 with 1 Axes>"
      ]
     },
     "metadata": {},
     "output_type": "display_data"
    }
   ],
   "source": [
    "results = pe_on_grid (inj_idx = 10,\n",
    "                 theta = 'luminosity_distance', \n",
    "                 injections = injections,\n",
    "                 analysis_data_frame = signal_only,\n",
    "                 analysis_data_channel = channel_INJ,\n",
    "                 psd_data_frame = org_noise_only,\n",
    "                 psd_data_channel = channel,\n",
    "                 psd_file = './gwpy_psd_original.txt',\n",
    "                 det = \"V1\",\n",
    "                 duration = 4,\n",
    "                 postmerger_duration = 1,\n",
    "                 psd_duration = 512,\n",
    "                 sampling_frequency = 2048,\n",
    "                 minimum_frequency = 20,\n",
    "                 maximum_frequency = 800,\n",
    "                 reference_frequency = 20,\n",
    "                 waveform_approximant=\"IMRPhenomPv2\",\n",
    "                 grid_size= 10000, # 600,\n",
    "                 geocent_time_correction = 0,\n",
    "                 phase_correction=0\n",
    "        )\n",
    "\n",
    "plt.plot(results[0], results[1])\n",
    "plt.axvline(results[2])\n",
    "plt.xlim(results[2]-1, results[2]+1)"
   ]
  },
  {
   "cell_type": "markdown",
   "id": "6609212b-b5f4-42be-ac00-debf9e7f3edc",
   "metadata": {},
   "source": [
    "## time and ra offsets"
   ]
  },
  {
   "cell_type": "code",
   "execution_count": 101,
   "id": "b605fec2-2bc7-4c0b-98e5-2e77721f59af",
   "metadata": {},
   "outputs": [
    {
     "name": "stderr",
     "output_type": "stream",
     "text": [
      "04:13 bilby INFO    : Waveform generator initiated with\n",
      "  frequency_domain_source_model: bilby.gw.source.lal_binary_black_hole\n",
      "  time_domain_source_model: None\n",
      "  parameter_conversion: bilby.gw.conversion.convert_to_lal_binary_black_hole_parameters\n",
      "04:13 bilby INFO    : No prior given, using default BBH priors in /cvmfs/software.igwn.org/conda/envs/igwn-py311/lib/python3.11/site-packages/bilby/gw/prior_files/precessing_spins_bbh.prior.\n"
     ]
    },
    {
     "data": {
      "application/vnd.jupyter.widget-view+json": {
       "model_id": "cfb69c34d3d74393a7642f36b6d5cee5",
       "version_major": 2,
       "version_minor": 0
      },
      "text/plain": [
       "  0%|          | 0/10000 [00:00<?, ?it/s]"
      ]
     },
     "metadata": {},
     "output_type": "display_data"
    },
    {
     "name": "stderr",
     "output_type": "stream",
     "text": [
      "04:13 bilby INFO    : Waveform generator initiated with\n",
      "  frequency_domain_source_model: bilby.gw.source.lal_binary_black_hole\n",
      "  time_domain_source_model: None\n",
      "  parameter_conversion: bilby.gw.conversion.convert_to_lal_binary_black_hole_parameters\n",
      "04:13 bilby INFO    : No prior given, using default BBH priors in /cvmfs/software.igwn.org/conda/envs/igwn-py311/lib/python3.11/site-packages/bilby/gw/prior_files/precessing_spins_bbh.prior.\n"
     ]
    },
    {
     "data": {
      "application/vnd.jupyter.widget-view+json": {
       "model_id": "cdd48db7479b4960a7992b7ccf04e71f",
       "version_major": 2,
       "version_minor": 0
      },
      "text/plain": [
       "  0%|          | 0/10000 [00:00<?, ?it/s]"
      ]
     },
     "metadata": {},
     "output_type": "display_data"
    },
    {
     "name": "stderr",
     "output_type": "stream",
     "text": [
      "04:13 bilby INFO    : Waveform generator initiated with\n",
      "  frequency_domain_source_model: bilby.gw.source.lal_binary_black_hole\n",
      "  time_domain_source_model: None\n",
      "  parameter_conversion: bilby.gw.conversion.convert_to_lal_binary_black_hole_parameters\n",
      "04:13 bilby INFO    : No prior given, using default BBH priors in /cvmfs/software.igwn.org/conda/envs/igwn-py311/lib/python3.11/site-packages/bilby/gw/prior_files/precessing_spins_bbh.prior.\n"
     ]
    },
    {
     "data": {
      "application/vnd.jupyter.widget-view+json": {
       "model_id": "5aa4352047eb4aca928a9e6bdd98f5ad",
       "version_major": 2,
       "version_minor": 0
      },
      "text/plain": [
       "  0%|          | 0/10000 [00:00<?, ?it/s]"
      ]
     },
     "metadata": {},
     "output_type": "display_data"
    },
    {
     "data": {
      "text/plain": [
       "(22.599165125930288, 24.599165125930288)"
      ]
     },
     "execution_count": 101,
     "metadata": {},
     "output_type": "execute_result"
    },
    {
     "data": {
      "image/png": "[encoded data removed]",
      "text/plain": [
       "<Figure size 640x480 with 1 Axes>"
      ]
     },
     "metadata": {},
     "output_type": "display_data"
    }
   ],
   "source": [
    "results = pe_on_grid (inj_idx = 10,\n",
    "                 theta = 'geocent_time', \n",
    "                 injections = injections,\n",
    "                 analysis_data_frame = signal_only,\n",
    "                 analysis_data_channel = channel_INJ,\n",
    "                 psd_data_frame = org_noise_only,\n",
    "                 psd_data_channel = channel,\n",
    "                 psd_file = './gwpy_psd_original.txt',\n",
    "                 det = \"V1\",\n",
    "                 duration = 4,\n",
    "                 postmerger_duration = 1,\n",
    "                 psd_duration = 512,\n",
    "                 sampling_frequency = 2048,\n",
    "                 minimum_frequency = 20,\n",
    "                 maximum_frequency = 800,\n",
    "                 reference_frequency = 20,\n",
    "                 waveform_approximant=\"IMRPhenomPv2\",\n",
    "                 grid_size=10000,  # 600,\n",
    "                 geocent_time_correction = 0,\n",
    "                 phase_correction=0,\n",
    "                 ra_correction=0\n",
    "        )\n",
    "time_offset = results[0][np.argmax(results[1])] - results[2]\n",
    "plt.plot(results[0], results[1])\n",
    "plt.axvline(results[2])\n",
    "plt.xlim(results[2]-0.001, results[2]+0.001)\n",
    "\n",
    "results = pe_on_grid (inj_idx = 10,\n",
    "                 theta = 'ra', \n",
    "                 injections = injections,\n",
    "                 analysis_data_frame = signal_only,\n",
    "                 analysis_data_channel = channel_INJ,\n",
    "                 psd_data_frame = org_noise_only,\n",
    "                 psd_data_channel = channel,\n",
    "                 psd_file = './gwpy_psd_original.txt',\n",
    "                 det = \"V1\",\n",
    "                 duration = 4,\n",
    "                 postmerger_duration = 1,\n",
    "                 psd_duration = 512,\n",
    "                 sampling_frequency = 2048,\n",
    "                 minimum_frequency = 20,\n",
    "                 maximum_frequency = 800,\n",
    "                 reference_frequency = 20,\n",
    "                 waveform_approximant=\"IMRPhenomPv2\",\n",
    "                 grid_size=10000,  #600,\n",
    "                 geocent_time_correction = time_offset,\n",
    "                 phase_correction=0,\n",
    "                 ra_correction=0\n",
    "        )\n",
    "ra_offset = results[0][np.argmax(results[1])] - results[2]\n",
    "plt.plot(results[0], results[1])\n",
    "plt.axvline(results[2])\n",
    "plt.xlim(results[2]-0.001, results[2]+0.001)\n",
    "\n",
    "results = pe_on_grid (inj_idx = 10,\n",
    "                 theta = 'luminosity_distance', \n",
    "                 injections = injections,\n",
    "                 analysis_data_frame = signal_only,\n",
    "                 analysis_data_channel = channel_INJ,\n",
    "                 psd_data_frame = org_noise_only,\n",
    "                 psd_data_channel = channel,\n",
    "                 psd_file = './gwpy_psd_original.txt',\n",
    "                 det = \"V1\",\n",
    "                 duration = 4,\n",
    "                 postmerger_duration = 1,\n",
    "                 psd_duration = 512,\n",
    "                 sampling_frequency = 2048,\n",
    "                 minimum_frequency = 20,\n",
    "                 maximum_frequency = 800,\n",
    "                 reference_frequency = 20,\n",
    "                 waveform_approximant=\"IMRPhenomPv2\",\n",
    "                 grid_size= 10000,  #600,\n",
    "                 geocent_time_correction = time_offset,\n",
    "                 phase_correction=0,\n",
    "                 ra_correction=ra_offset\n",
    "        )\n",
    "plt.plot(results[0], results[1])\n",
    "plt.axvline(results[2])\n",
    "plt.xlim(results[2]-1, results[2]+1)\n",
    "\n"
   ]
  },
  {
   "cell_type": "code",
   "execution_count": 102,
   "id": "3d0fe314-47ef-4e32-93f1-eef41a5f74f4",
   "metadata": {},
   "outputs": [
    {
     "name": "stderr",
     "output_type": "stream",
     "text": [
      "04:24 bilby INFO    : Waveform generator initiated with\n",
      "  frequency_domain_source_model: bilby.gw.source.lal_binary_black_hole\n",
      "  time_domain_source_model: None\n",
      "  parameter_conversion: bilby.gw.conversion.convert_to_lal_binary_black_hole_parameters\n",
      "04:24 bilby INFO    : No prior given, using default BBH priors in /cvmfs/software.igwn.org/conda/envs/igwn-py311/lib/python3.11/site-packages/bilby/gw/prior_files/precessing_spins_bbh.prior.\n"
     ]
    },
    {
     "data": {
      "application/vnd.jupyter.widget-view+json": {
       "model_id": "30cd7551e2d74aeba4a9b4e63dac9a45",
       "version_major": 2,
       "version_minor": 0
      },
      "text/plain": [
       "  0%|          | 0/10000 [00:00<?, ?it/s]"
      ]
     },
     "metadata": {},
     "output_type": "display_data"
    },
    {
     "data": {
      "text/plain": [
       "(0.5879890167603642, 0.6079890167603642)"
      ]
     },
     "execution_count": 102,
     "metadata": {},
     "output_type": "execute_result"
    },
    {
     "data": {
      "image/png": "[encoded data removed]",
      "text/plain": [
       "<Figure size 640x480 with 1 Axes>"
      ]
     },
     "metadata": {},
     "output_type": "display_data"
    }
   ],
   "source": [
    "results = pe_on_grid (inj_idx = 10,\n",
    "                 theta = 'dec', \n",
    "                 injections = injections,\n",
    "                 analysis_data_frame = signal_only,\n",
    "                 analysis_data_channel = channel_INJ,\n",
    "                 psd_data_frame = org_noise_only,\n",
    "                 psd_data_channel = channel,\n",
    "                 psd_file = './gwpy_psd_original.txt',\n",
    "                 det = \"V1\",\n",
    "                 duration = 4,\n",
    "                 postmerger_duration = 1,\n",
    "                 psd_duration = 512,\n",
    "                 sampling_frequency = 2048,\n",
    "                 minimum_frequency = 20,\n",
    "                 maximum_frequency = 800,\n",
    "                 reference_frequency = 20,\n",
    "                 waveform_approximant=\"IMRPhenomPv2\",\n",
    "                 grid_size= 10000, #600,\n",
    "                 geocent_time_correction = time_offset,\n",
    "                 phase_correction=0,\n",
    "                 ra_correction=0\n",
    "        )\n",
    "ra_offset = results[0][np.argmax(results[1])] - results[2]\n",
    "plt.plot(results[0], results[1])\n",
    "plt.axvline(results[2])\n",
    "plt.xlim(results[2]-0.01, results[2]+0.01)\n",
    "\n"
   ]
  },
  {
   "cell_type": "code",
   "execution_count": null,
   "id": "1cffdbaf-242e-4741-91dc-e6dcc4153e78",
   "metadata": {},
   "outputs": [],
   "source": []
  },
  {
   "cell_type": "code",
   "execution_count": 7,
   "id": "fde9fd60-3efc-4d61-a99f-cb7d13b4c0ac",
   "metadata": {},
   "outputs": [
    {
     "name": "stderr",
     "output_type": "stream",
     "text": [
      "06:13 bilby INFO    : Waveform generator initiated with\n",
      "  frequency_domain_source_model: bilby.gw.source.lal_binary_black_hole\n",
      "  time_domain_source_model: None\n",
      "  parameter_conversion: bilby.gw.conversion.convert_to_lal_binary_black_hole_parameters\n",
      "06:13 bilby INFO    : No prior given, using default BBH priors in /cvmfs/software.igwn.org/conda/envs/igwn-py311/lib/python3.11/site-packages/bilby/gw/prior_files/precessing_spins_bbh.prior.\n"
     ]
    },
    {
     "data": {
      "application/vnd.jupyter.widget-view+json": {
       "model_id": "34bb3a8fc7074c95979d4b951d2ba3c8",
       "version_major": 2,
       "version_minor": 0
      },
      "text/plain": [
       "  0%|          | 0/600 [00:00<?, ?it/s]"
      ]
     },
     "metadata": {},
     "output_type": "display_data"
    },
    {
     "name": "stderr",
     "output_type": "stream",
     "text": [
      "06:15 bilby INFO    : Waveform generator initiated with\n",
      "  frequency_domain_source_model: bilby.gw.source.lal_binary_black_hole\n",
      "  time_domain_source_model: None\n",
      "  parameter_conversion: bilby.gw.conversion.convert_to_lal_binary_black_hole_parameters\n",
      "06:15 bilby INFO    : No prior given, using default BBH priors in /cvmfs/software.igwn.org/conda/envs/igwn-py311/lib/python3.11/site-packages/bilby/gw/prior_files/precessing_spins_bbh.prior.\n"
     ]
    },
    {
     "data": {
      "application/vnd.jupyter.widget-view+json": {
       "model_id": "645a129c1efc41fbbb51acd9fb72562f",
       "version_major": 2,
       "version_minor": 0
      },
      "text/plain": [
       "  0%|          | 0/600 [00:00<?, ?it/s]"
      ]
     },
     "metadata": {},
     "output_type": "display_data"
    },
    {
     "name": "stderr",
     "output_type": "stream",
     "text": [
      "06:16 bilby INFO    : Waveform generator initiated with\n",
      "  frequency_domain_source_model: bilby.gw.source.lal_binary_black_hole\n",
      "  time_domain_source_model: None\n",
      "  parameter_conversion: bilby.gw.conversion.convert_to_lal_binary_black_hole_parameters\n",
      "06:16 bilby INFO    : No prior given, using default BBH priors in /cvmfs/software.igwn.org/conda/envs/igwn-py311/lib/python3.11/site-packages/bilby/gw/prior_files/precessing_spins_bbh.prior.\n"
     ]
    },
    {
     "data": {
      "application/vnd.jupyter.widget-view+json": {
       "model_id": "7e4238de91424c0ea043c3ea24b3ae62",
       "version_major": 2,
       "version_minor": 0
      },
      "text/plain": [
       "  0%|          | 0/600 [00:00<?, ?it/s]"
      ]
     },
     "metadata": {},
     "output_type": "display_data"
    },
    {
     "name": "stderr",
     "output_type": "stream",
     "text": [
      "06:17 bilby INFO    : Waveform generator initiated with\n",
      "  frequency_domain_source_model: bilby.gw.source.lal_binary_black_hole\n",
      "  time_domain_source_model: None\n",
      "  parameter_conversion: bilby.gw.conversion.convert_to_lal_binary_black_hole_parameters\n",
      "06:17 bilby INFO    : No prior given, using default BBH priors in /cvmfs/software.igwn.org/conda/envs/igwn-py311/lib/python3.11/site-packages/bilby/gw/prior_files/precessing_spins_bbh.prior.\n"
     ]
    },
    {
     "data": {
      "application/vnd.jupyter.widget-view+json": {
       "model_id": "1de60d1152b24452a478f196ec2e75aa",
       "version_major": 2,
       "version_minor": 0
      },
      "text/plain": [
       "  0%|          | 0/600 [00:00<?, ?it/s]"
      ]
     },
     "metadata": {},
     "output_type": "display_data"
    },
    {
     "name": "stderr",
     "output_type": "stream",
     "text": [
      "06:18 bilby INFO    : Waveform generator initiated with\n",
      "  frequency_domain_source_model: bilby.gw.source.lal_binary_black_hole\n",
      "  time_domain_source_model: None\n",
      "  parameter_conversion: bilby.gw.conversion.convert_to_lal_binary_black_hole_parameters\n",
      "06:18 bilby INFO    : No prior given, using default BBH priors in /cvmfs/software.igwn.org/conda/envs/igwn-py311/lib/python3.11/site-packages/bilby/gw/prior_files/precessing_spins_bbh.prior.\n"
     ]
    },
    {
     "data": {
      "application/vnd.jupyter.widget-view+json": {
       "model_id": "ff9935fb661f45bf97d5812709286a7b",
       "version_major": 2,
       "version_minor": 0
      },
      "text/plain": [
       "  0%|          | 0/600 [00:00<?, ?it/s]"
      ]
     },
     "metadata": {},
     "output_type": "display_data"
    },
    {
     "name": "stderr",
     "output_type": "stream",
     "text": [
      "06:19 bilby INFO    : Waveform generator initiated with\n",
      "  frequency_domain_source_model: bilby.gw.source.lal_binary_black_hole\n",
      "  time_domain_source_model: None\n",
      "  parameter_conversion: bilby.gw.conversion.convert_to_lal_binary_black_hole_parameters\n",
      "06:19 bilby INFO    : No prior given, using default BBH priors in /cvmfs/software.igwn.org/conda/envs/igwn-py311/lib/python3.11/site-packages/bilby/gw/prior_files/precessing_spins_bbh.prior.\n"
     ]
    },
    {
     "data": {
      "application/vnd.jupyter.widget-view+json": {
       "model_id": "67d9fbc688a544148a240e664bf6f0f5",
       "version_major": 2,
       "version_minor": 0
      },
      "text/plain": [
       "  0%|          | 0/600 [00:00<?, ?it/s]"
      ]
     },
     "metadata": {},
     "output_type": "display_data"
    },
    {
     "name": "stderr",
     "output_type": "stream",
     "text": [
      "06:20 bilby INFO    : Waveform generator initiated with\n",
      "  frequency_domain_source_model: bilby.gw.source.lal_binary_black_hole\n",
      "  time_domain_source_model: None\n",
      "  parameter_conversion: bilby.gw.conversion.convert_to_lal_binary_black_hole_parameters\n",
      "06:20 bilby INFO    : No prior given, using default BBH priors in /cvmfs/software.igwn.org/conda/envs/igwn-py311/lib/python3.11/site-packages/bilby/gw/prior_files/precessing_spins_bbh.prior.\n"
     ]
    },
    {
     "data": {
      "application/vnd.jupyter.widget-view+json": {
       "model_id": "d01864fdf4da4fb483f382c1f80c81dc",
       "version_major": 2,
       "version_minor": 0
      },
      "text/plain": [
       "  0%|          | 0/600 [00:00<?, ?it/s]"
      ]
     },
     "metadata": {},
     "output_type": "display_data"
    },
    {
     "name": "stderr",
     "output_type": "stream",
     "text": [
      "06:20 bilby INFO    : Waveform generator initiated with\n",
      "  frequency_domain_source_model: bilby.gw.source.lal_binary_black_hole\n",
      "  time_domain_source_model: None\n",
      "  parameter_conversion: bilby.gw.conversion.convert_to_lal_binary_black_hole_parameters\n",
      "06:20 bilby INFO    : No prior given, using default BBH priors in /cvmfs/software.igwn.org/conda/envs/igwn-py311/lib/python3.11/site-packages/bilby/gw/prior_files/precessing_spins_bbh.prior.\n"
     ]
    },
    {
     "data": {
      "application/vnd.jupyter.widget-view+json": {
       "model_id": "2d4cdbf8bec442c292944e98bbc5fa38",
       "version_major": 2,
       "version_minor": 0
      },
      "text/plain": [
       "  0%|          | 0/600 [00:00<?, ?it/s]"
      ]
     },
     "metadata": {},
     "output_type": "display_data"
    },
    {
     "name": "stderr",
     "output_type": "stream",
     "text": [
      "06:20 bilby INFO    : Waveform generator initiated with\n",
      "  frequency_domain_source_model: bilby.gw.source.lal_binary_black_hole\n",
      "  time_domain_source_model: None\n",
      "  parameter_conversion: bilby.gw.conversion.convert_to_lal_binary_black_hole_parameters\n",
      "06:20 bilby INFO    : No prior given, using default BBH priors in /cvmfs/software.igwn.org/conda/envs/igwn-py311/lib/python3.11/site-packages/bilby/gw/prior_files/precessing_spins_bbh.prior.\n"
     ]
    },
    {
     "data": {
      "application/vnd.jupyter.widget-view+json": {
       "model_id": "61942954abcb4b9aa298fd0bcf1f5abb",
       "version_major": 2,
       "version_minor": 0
      },
      "text/plain": [
       "  0%|          | 0/600 [00:00<?, ?it/s]"
      ]
     },
     "metadata": {},
     "output_type": "display_data"
    },
    {
     "name": "stderr",
     "output_type": "stream",
     "text": [
      "06:20 bilby INFO    : Waveform generator initiated with\n",
      "  frequency_domain_source_model: bilby.gw.source.lal_binary_black_hole\n",
      "  time_domain_source_model: None\n",
      "  parameter_conversion: bilby.gw.conversion.convert_to_lal_binary_black_hole_parameters\n",
      "06:20 bilby INFO    : No prior given, using default BBH priors in /cvmfs/software.igwn.org/conda/envs/igwn-py311/lib/python3.11/site-packages/bilby/gw/prior_files/precessing_spins_bbh.prior.\n"
     ]
    },
    {
     "data": {
      "application/vnd.jupyter.widget-view+json": {
       "model_id": "49e643a2fe55474c82608ae772f0923c",
       "version_major": 2,
       "version_minor": 0
      },
      "text/plain": [
       "  0%|          | 0/600 [00:00<?, ?it/s]"
      ]
     },
     "metadata": {},
     "output_type": "display_data"
    },
    {
     "name": "stderr",
     "output_type": "stream",
     "text": [
      "06:20 bilby INFO    : Waveform generator initiated with\n",
      "  frequency_domain_source_model: bilby.gw.source.lal_binary_black_hole\n",
      "  time_domain_source_model: None\n",
      "  parameter_conversion: bilby.gw.conversion.convert_to_lal_binary_black_hole_parameters\n",
      "06:20 bilby INFO    : No prior given, using default BBH priors in /cvmfs/software.igwn.org/conda/envs/igwn-py311/lib/python3.11/site-packages/bilby/gw/prior_files/precessing_spins_bbh.prior.\n"
     ]
    },
    {
     "data": {
      "application/vnd.jupyter.widget-view+json": {
       "model_id": "d3feed1654994244bef437e173b45c26",
       "version_major": 2,
       "version_minor": 0
      },
      "text/plain": [
       "  0%|          | 0/600 [00:00<?, ?it/s]"
      ]
     },
     "metadata": {},
     "output_type": "display_data"
    },
    {
     "name": "stderr",
     "output_type": "stream",
     "text": [
      "06:21 bilby INFO    : Waveform generator initiated with\n",
      "  frequency_domain_source_model: bilby.gw.source.lal_binary_black_hole\n",
      "  time_domain_source_model: None\n",
      "  parameter_conversion: bilby.gw.conversion.convert_to_lal_binary_black_hole_parameters\n",
      "06:21 bilby INFO    : No prior given, using default BBH priors in /cvmfs/software.igwn.org/conda/envs/igwn-py311/lib/python3.11/site-packages/bilby/gw/prior_files/precessing_spins_bbh.prior.\n"
     ]
    },
    {
     "data": {
      "application/vnd.jupyter.widget-view+json": {
       "model_id": "224f65fe83a2474aa2c9b3ba96850c76",
       "version_major": 2,
       "version_minor": 0
      },
      "text/plain": [
       "  0%|          | 0/600 [00:00<?, ?it/s]"
      ]
     },
     "metadata": {},
     "output_type": "display_data"
    },
    {
     "name": "stderr",
     "output_type": "stream",
     "text": [
      "06:22 bilby INFO    : Waveform generator initiated with\n",
      "  frequency_domain_source_model: bilby.gw.source.lal_binary_black_hole\n",
      "  time_domain_source_model: None\n",
      "  parameter_conversion: bilby.gw.conversion.convert_to_lal_binary_black_hole_parameters\n",
      "06:22 bilby INFO    : No prior given, using default BBH priors in /cvmfs/software.igwn.org/conda/envs/igwn-py311/lib/python3.11/site-packages/bilby/gw/prior_files/precessing_spins_bbh.prior.\n"
     ]
    },
    {
     "data": {
      "application/vnd.jupyter.widget-view+json": {
       "model_id": "60a79371380a4deca92311a5f10ec697",
       "version_major": 2,
       "version_minor": 0
      },
      "text/plain": [
       "  0%|          | 0/600 [00:00<?, ?it/s]"
      ]
     },
     "metadata": {},
     "output_type": "display_data"
    },
    {
     "ename": "ValueError",
     "evalue": "num must be an integer with 1 <= num <= 12, not 13",
     "output_type": "error",
     "traceback": [
      "\u001b[31m---------------------------------------------------------------------------\u001b[39m",
      "\u001b[31mValueError\u001b[39m                                Traceback (most recent call last)",
      "\u001b[36mCell\u001b[39m\u001b[36m \u001b[39m\u001b[32mIn[7]\u001b[39m\u001b[32m, line 28\u001b[39m\n\u001b[32m      3\u001b[39m \u001b[38;5;28;01mfor\u001b[39;00m parameter \u001b[38;5;129;01min\u001b[39;00m [\u001b[33m'\u001b[39m\u001b[33mmass_ratio\u001b[39m\u001b[33m'\u001b[39m, \u001b[33m'\u001b[39m\u001b[33ma_1\u001b[39m\u001b[33m'\u001b[39m, \u001b[33m'\u001b[39m\u001b[33ma_2\u001b[39m\u001b[33m'\u001b[39m, \u001b[33m'\u001b[39m\u001b[33mtilt_1\u001b[39m\u001b[33m'\u001b[39m, \u001b[33m'\u001b[39m\u001b[33mtilt_2\u001b[39m\u001b[33m'\u001b[39m, \u001b[33m'\u001b[39m\u001b[33mphi_12\u001b[39m\u001b[33m'\u001b[39m, \u001b[33m'\u001b[39m\u001b[33mphi_jl\u001b[39m\u001b[33m'\u001b[39m, \u001b[33m'\u001b[39m\u001b[33mpsi\u001b[39m\u001b[33m'\u001b[39m, \u001b[33m'\u001b[39m\u001b[33mra\u001b[39m\u001b[33m'\u001b[39m,\n\u001b[32m      4\u001b[39m             \u001b[33m'\u001b[39m\u001b[33mdec\u001b[39m\u001b[33m'\u001b[39m, \u001b[33m'\u001b[39m\u001b[33mphase\u001b[39m\u001b[33m'\u001b[39m, \u001b[33m'\u001b[39m\u001b[33mtheta_jn\u001b[39m\u001b[33m'\u001b[39m, \u001b[33m'\u001b[39m\u001b[33mluminosity_distance\u001b[39m\u001b[33m'\u001b[39m]:\n\u001b[32m      7\u001b[39m     results = pe_on_grid (inj_idx = \u001b[32m10\u001b[39m,\n\u001b[32m      8\u001b[39m                  theta = parameter, \n\u001b[32m      9\u001b[39m                  injections = injections,\n\u001b[32m   (...)\u001b[39m\u001b[32m     25\u001b[39m                  geocent_time_correction = \u001b[32m0.00011730194091796875\u001b[39m\n\u001b[32m     26\u001b[39m         )\n\u001b[32m---> \u001b[39m\u001b[32m28\u001b[39m     \u001b[43mplt\u001b[49m\u001b[43m.\u001b[49m\u001b[43msubplot\u001b[49m\u001b[43m(\u001b[49m\u001b[32;43m4\u001b[39;49m\u001b[43m,\u001b[49m\u001b[32;43m3\u001b[39;49m\u001b[43m,\u001b[49m\u001b[43mindex\u001b[49m\u001b[43m)\u001b[49m\n\u001b[32m     29\u001b[39m     plt.plot(results[\u001b[32m0\u001b[39m], results[\u001b[32m1\u001b[39m])\n\u001b[32m     30\u001b[39m     plt.axvline(results[\u001b[32m2\u001b[39m])\n",
      "\u001b[36mFile \u001b[39m\u001b[32m/cvmfs/software.igwn.org/conda/envs/igwn-py311/lib/python3.11/site-packages/matplotlib/pyplot.py:1323\u001b[39m, in \u001b[36msubplot\u001b[39m\u001b[34m(*args, **kwargs)\u001b[39m\n\u001b[32m   1320\u001b[39m fig = gcf()\n\u001b[32m   1322\u001b[39m \u001b[38;5;66;03m# First, search for an existing subplot with a matching spec.\u001b[39;00m\n\u001b[32m-> \u001b[39m\u001b[32m1323\u001b[39m key = \u001b[43mSubplotSpec\u001b[49m\u001b[43m.\u001b[49m\u001b[43m_from_subplot_args\u001b[49m\u001b[43m(\u001b[49m\u001b[43mfig\u001b[49m\u001b[43m,\u001b[49m\u001b[43m \u001b[49m\u001b[43margs\u001b[49m\u001b[43m)\u001b[49m\n\u001b[32m   1325\u001b[39m \u001b[38;5;28;01mfor\u001b[39;00m ax \u001b[38;5;129;01min\u001b[39;00m fig.axes:\n\u001b[32m   1326\u001b[39m     \u001b[38;5;66;03m# if we found an Axes at the position sort out if we can re-use it\u001b[39;00m\n\u001b[32m   1327\u001b[39m     \u001b[38;5;28;01mif\u001b[39;00m ax.get_subplotspec() == key:\n\u001b[32m   1328\u001b[39m         \u001b[38;5;66;03m# if the user passed no kwargs, re-use\u001b[39;00m\n",
      "\u001b[36mFile \u001b[39m\u001b[32m/cvmfs/software.igwn.org/conda/envs/igwn-py311/lib/python3.11/site-packages/matplotlib/gridspec.py:600\u001b[39m, in \u001b[36mSubplotSpec._from_subplot_args\u001b[39m\u001b[34m(figure, args)\u001b[39m\n\u001b[32m    598\u001b[39m \u001b[38;5;28;01melse\u001b[39;00m:\n\u001b[32m    599\u001b[39m     \u001b[38;5;28;01mif\u001b[39;00m \u001b[38;5;129;01mnot\u001b[39;00m \u001b[38;5;28misinstance\u001b[39m(num, Integral) \u001b[38;5;129;01mor\u001b[39;00m num < \u001b[32m1\u001b[39m \u001b[38;5;129;01mor\u001b[39;00m num > rows*cols:\n\u001b[32m--> \u001b[39m\u001b[32m600\u001b[39m         \u001b[38;5;28;01mraise\u001b[39;00m \u001b[38;5;167;01mValueError\u001b[39;00m(\n\u001b[32m    601\u001b[39m             \u001b[33mf\u001b[39m\u001b[33m\"\u001b[39m\u001b[33mnum must be an integer with 1 <= num <= \u001b[39m\u001b[38;5;132;01m{\u001b[39;00mrows*cols\u001b[38;5;132;01m}\u001b[39;00m\u001b[33m, \u001b[39m\u001b[33m\"\u001b[39m\n\u001b[32m    602\u001b[39m             \u001b[33mf\u001b[39m\u001b[33m\"\u001b[39m\u001b[33mnot \u001b[39m\u001b[38;5;132;01m{\u001b[39;00mnum\u001b[38;5;132;01m!r}\u001b[39;00m\u001b[33m\"\u001b[39m\n\u001b[32m    603\u001b[39m         )\n\u001b[32m    604\u001b[39m     i = j = num\n\u001b[32m    605\u001b[39m \u001b[38;5;28;01mreturn\u001b[39;00m gs[i-\u001b[32m1\u001b[39m:j]\n",
      "\u001b[31mValueError\u001b[39m: num must be an integer with 1 <= num <= 12, not 13"
     ]
    },
    {
     "data": {
      "image/png": "[encoded data removed]",
      "text/plain": [
       "<Figure size 1000x1000 with 12 Axes>"
      ]
     },
     "metadata": {},
     "output_type": "display_data"
    }
   ],
   "source": [
    "plt.figure(figsize=(10,10))\n",
    "index = 1\n",
    "for parameter in ['mass_ratio', 'a_1', 'a_2', 'tilt_1', 'tilt_2', 'phi_12', 'phi_jl', 'psi', 'ra',\n",
    "            'dec', 'phase', 'theta_jn', 'luminosity_distance']:\n",
    "\n",
    "\n",
    "    results = pe_on_grid (inj_idx = 10,\n",
    "                 theta = parameter, \n",
    "                 injections = injections,\n",
    "                 analysis_data_frame = signal_only,\n",
    "                 analysis_data_channel = channel_INJ,\n",
    "                 psd_data_frame = org_noise_only,\n",
    "                 psd_data_channel = channel,\n",
    "                 psd_file = './gwpy_psd_original.txt',\n",
    "                 det = \"V1\",\n",
    "                 duration = 4,\n",
    "                 postmerger_duration = 1,\n",
    "                 psd_duration = 512,\n",
    "                 sampling_frequency = 2048,\n",
    "                 minimum_frequency = 20,\n",
    "                 maximum_frequency = 800,\n",
    "                 reference_frequency = 20,\n",
    "                 waveform_approximant=\"IMRPhenomPv2\",\n",
    "                 grid_size= 600,\n",
    "                 geocent_time_correction = 0.00011730194091796875\n",
    "        )\n",
    "\n",
    "    plt.subplot(4,3,index)\n",
    "    plt.plot(results[0], results[1])\n",
    "    plt.axvline(results[2])\n",
    "    plt.xlim(results[2]-1, results[2]+1)\n",
    "    plt.legend([parameter])\n",
    "    index +=1 "
   ]
  },
  {
   "cell_type": "code",
   "execution_count": 10,
   "id": "d925e593-64f2-46b3-a8c3-f883dddda855",
   "metadata": {},
   "outputs": [
    {
     "data": {
      "application/vnd.jupyter.widget-view+json": {
       "model_id": "d3134b0cc23946a9a4e64b8d43966856",
       "version_major": 2,
       "version_minor": 0
      },
      "text/plain": [
       "  0%|          | 0/127 [00:00<?, ?it/s]"
      ]
     },
     "metadata": {},
     "output_type": "display_data"
    },
    {
     "name": "stderr",
     "output_type": "stream",
     "text": [
      "06:48 bilby INFO    : Waveform generator initiated with\n",
      "  frequency_domain_source_model: bilby.gw.source.lal_binary_black_hole\n",
      "  time_domain_source_model: None\n",
      "  parameter_conversion: bilby.gw.conversion.convert_to_lal_binary_black_hole_parameters\n",
      "06:48 bilby INFO    : No prior given, using default BBH priors in /cvmfs/software.igwn.org/conda/envs/igwn-py311/lib/python3.11/site-packages/bilby/gw/prior_files/precessing_spins_bbh.prior.\n"
     ]
    },
    {
     "ename": "KeyboardInterrupt",
     "evalue": "",
     "output_type": "error",
     "traceback": [
      "\u001b[31m---------------------------------------------------------------------------\u001b[39m",
      "\u001b[31mKeyboardInterrupt\u001b[39m                         Traceback (most recent call last)",
      "\u001b[36mCell\u001b[39m\u001b[36m \u001b[39m\u001b[32mIn[10]\u001b[39m\u001b[32m, line 182\u001b[39m\n\u001b[32m    179\u001b[39m     param_dict[\u001b[33m'\u001b[39m\u001b[33mgeocent_time\u001b[39m\u001b[33m'\u001b[39m] = grid[i]\n\u001b[32m    180\u001b[39m     likelihood.parameters = param_dict\n\u001b[32m--> \u001b[39m\u001b[32m182\u001b[39m     LLR[i] = \u001b[43mlikelihood\u001b[49m\u001b[43m.\u001b[49m\u001b[43mlog_likelihood_ratio\u001b[49m\u001b[43m(\u001b[49m\u001b[43m)\u001b[49m\n\u001b[32m    184\u001b[39m posterior = np.exp(LLR-\u001b[38;5;28mmax\u001b[39m(LLR))\n\u001b[32m    185\u001b[39m time_offsets[inj_idx] = grid[np.argmax(posterior)] - trigger_time\n",
      "\u001b[36mFile \u001b[39m\u001b[32m/cvmfs/software.igwn.org/conda/envs/igwn-py311/lib/python3.11/site-packages/bilby/gw/likelihood/base.py:406\u001b[39m, in \u001b[36mGravitationalWaveTransient.log_likelihood_ratio\u001b[39m\u001b[34m(self)\u001b[39m\n\u001b[32m    403\u001b[39m total_snrs = \u001b[38;5;28mself\u001b[39m._CalculatedSNRs()\n\u001b[32m    405\u001b[39m \u001b[38;5;28;01mfor\u001b[39;00m interferometer \u001b[38;5;129;01min\u001b[39;00m \u001b[38;5;28mself\u001b[39m.interferometers:\n\u001b[32m--> \u001b[39m\u001b[32m406\u001b[39m     per_detector_snr = \u001b[38;5;28;43mself\u001b[39;49m\u001b[43m.\u001b[49m\u001b[43mcalculate_snrs\u001b[49m\u001b[43m(\u001b[49m\n\u001b[32m    407\u001b[39m \u001b[43m        \u001b[49m\u001b[43mwaveform_polarizations\u001b[49m\u001b[43m=\u001b[49m\u001b[43mwaveform_polarizations\u001b[49m\u001b[43m,\u001b[49m\n\u001b[32m    408\u001b[39m \u001b[43m        \u001b[49m\u001b[43minterferometer\u001b[49m\u001b[43m=\u001b[49m\u001b[43minterferometer\u001b[49m\u001b[43m)\u001b[49m\n\u001b[32m    410\u001b[39m     total_snrs += per_detector_snr\n\u001b[32m    412\u001b[39m log_l = \u001b[38;5;28mself\u001b[39m.compute_log_likelihood_from_snrs(total_snrs)\n",
      "\u001b[36mFile \u001b[39m\u001b[32m/cvmfs/software.igwn.org/conda/envs/igwn-py311/lib/python3.11/site-packages/bilby/gw/likelihood/base.py:271\u001b[39m, in \u001b[36mGravitationalWaveTransient.calculate_snrs\u001b[39m\u001b[34m(self, waveform_polarizations, interferometer, return_array)\u001b[39m\n\u001b[32m    268\u001b[39m     signal[_mask] *= \u001b[38;5;28mself\u001b[39m.calibration_draws[interferometer.name][\u001b[38;5;28mint\u001b[39m(\u001b[38;5;28mself\u001b[39m.parameters[\u001b[33m'\u001b[39m\u001b[33mrecalib_index\u001b[39m\u001b[33m'\u001b[39m])]\n\u001b[32m    270\u001b[39m d_inner_h = interferometer.inner_product(signal=signal)\n\u001b[32m--> \u001b[39m\u001b[32m271\u001b[39m optimal_snr_squared = \u001b[43minterferometer\u001b[49m\u001b[43m.\u001b[49m\u001b[43moptimal_snr_squared\u001b[49m\u001b[43m(\u001b[49m\u001b[43msignal\u001b[49m\u001b[43m=\u001b[49m\u001b[43msignal\u001b[49m\u001b[43m)\u001b[49m\n\u001b[32m    272\u001b[39m complex_matched_filter_snr = d_inner_h / (optimal_snr_squared**\u001b[32m0.5\u001b[39m)\n\u001b[32m    274\u001b[39m d_inner_h_array = \u001b[38;5;28;01mNone\u001b[39;00m\n",
      "\u001b[36mFile \u001b[39m\u001b[32m/cvmfs/software.igwn.org/conda/envs/igwn-py311/lib/python3.11/site-packages/bilby/gw/detector/interferometer.py:577\u001b[39m, in \u001b[36mInterferometer.optimal_snr_squared\u001b[39m\u001b[34m(self, signal)\u001b[39m\n\u001b[32m    565\u001b[39m \u001b[38;5;28;01mdef\u001b[39;00m \u001b[34moptimal_snr_squared\u001b[39m(\u001b[38;5;28mself\u001b[39m, signal):\n\u001b[32m    566\u001b[39m     \u001b[33;03m\"\"\"\u001b[39;00m\n\u001b[32m    567\u001b[39m \n\u001b[32m    568\u001b[39m \u001b[33;03m    Parameters\u001b[39;00m\n\u001b[32m   (...)\u001b[39m\u001b[32m    575\u001b[39m \u001b[33;03m    float: The optimal signal to noise ratio possible squared\u001b[39;00m\n\u001b[32m    576\u001b[39m \u001b[33;03m    \"\"\"\u001b[39;00m\n\u001b[32m--> \u001b[39m\u001b[32m577\u001b[39m     \u001b[38;5;28;01mreturn\u001b[39;00m \u001b[43mgwutils\u001b[49m\u001b[43m.\u001b[49m\u001b[43moptimal_snr_squared\u001b[49m\u001b[43m(\u001b[49m\n\u001b[32m    578\u001b[39m \u001b[43m        \u001b[49m\u001b[43msignal\u001b[49m\u001b[43m=\u001b[49m\u001b[43msignal\u001b[49m\u001b[43m[\u001b[49m\u001b[38;5;28;43mself\u001b[39;49m\u001b[43m.\u001b[49m\u001b[43mstrain_data\u001b[49m\u001b[43m.\u001b[49m\u001b[43mfrequency_mask\u001b[49m\u001b[43m]\u001b[49m\u001b[43m,\u001b[49m\n\u001b[32m    579\u001b[39m \u001b[43m        \u001b[49m\u001b[43mpower_spectral_density\u001b[49m\u001b[43m=\u001b[49m\u001b[38;5;28;43mself\u001b[39;49m\u001b[43m.\u001b[49m\u001b[43mpower_spectral_density_array\u001b[49m\u001b[43m[\u001b[49m\u001b[38;5;28;43mself\u001b[39;49m\u001b[43m.\u001b[49m\u001b[43mstrain_data\u001b[49m\u001b[43m.\u001b[49m\u001b[43mfrequency_mask\u001b[49m\u001b[43m]\u001b[49m\u001b[43m,\u001b[49m\n\u001b[32m    580\u001b[39m \u001b[43m        \u001b[49m\u001b[43mduration\u001b[49m\u001b[43m=\u001b[49m\u001b[38;5;28;43mself\u001b[39;49m\u001b[43m.\u001b[49m\u001b[43mstrain_data\u001b[49m\u001b[43m.\u001b[49m\u001b[43mduration\u001b[49m\u001b[43m)\u001b[49m\n",
      "\u001b[36mFile \u001b[39m\u001b[32m/cvmfs/software.igwn.org/conda/envs/igwn-py311/lib/python3.11/site-packages/bilby/gw/utils.py:190\u001b[39m, in \u001b[36moptimal_snr_squared\u001b[39m\u001b[34m(signal, power_spectral_density, duration)\u001b[39m\n\u001b[32m    170\u001b[39m \u001b[38;5;28;01mdef\u001b[39;00m \u001b[34moptimal_snr_squared\u001b[39m(signal, power_spectral_density, duration):\n\u001b[32m    171\u001b[39m     \u001b[33;03m\"\"\"\u001b[39;00m\n\u001b[32m    172\u001b[39m \u001b[33;03m    Compute the square of the optimal matched filter SNR for the provided\u001b[39;00m\n\u001b[32m    173\u001b[39m \u001b[33;03m    signal.\u001b[39;00m\n\u001b[32m   (...)\u001b[39m\u001b[32m    188\u001b[39m \n\u001b[32m    189\u001b[39m \u001b[33;03m    \"\"\"\u001b[39;00m\n\u001b[32m--> \u001b[39m\u001b[32m190\u001b[39m     \u001b[38;5;28;01mreturn\u001b[39;00m \u001b[43mnoise_weighted_inner_product\u001b[49m\u001b[43m(\u001b[49m\u001b[43msignal\u001b[49m\u001b[43m,\u001b[49m\u001b[43m \u001b[49m\u001b[43msignal\u001b[49m\u001b[43m,\u001b[49m\u001b[43m \u001b[49m\u001b[43mpower_spectral_density\u001b[49m\u001b[43m,\u001b[49m\u001b[43m \u001b[49m\u001b[43mduration\u001b[49m\u001b[43m)\u001b[49m\n",
      "\u001b[36mFile \u001b[39m\u001b[32m/cvmfs/software.igwn.org/conda/envs/igwn-py311/lib/python3.11/site-packages/bilby/gw/utils.py:137\u001b[39m, in \u001b[36mnoise_weighted_inner_product\u001b[39m\u001b[34m(aa, bb, power_spectral_density, duration)\u001b[39m\n\u001b[32m    117\u001b[39m \u001b[33;03m\"\"\"\u001b[39;00m\n\u001b[32m    118\u001b[39m \u001b[33;03mCalculate the noise weighted inner product between two arrays.\u001b[39;00m\n\u001b[32m    119\u001b[39m \n\u001b[32m   (...)\u001b[39m\u001b[32m    133\u001b[39m \u001b[33;03mNoise-weighted inner product.\u001b[39;00m\n\u001b[32m    134\u001b[39m \u001b[33;03m\"\"\"\u001b[39;00m\n\u001b[32m    136\u001b[39m integrand = np.conj(aa) * bb / power_spectral_density\n\u001b[32m--> \u001b[39m\u001b[32m137\u001b[39m \u001b[38;5;28;01mreturn\u001b[39;00m \u001b[32m4\u001b[39m / duration * \u001b[43mnp\u001b[49m\u001b[43m.\u001b[49m\u001b[43msum\u001b[49m\u001b[43m(\u001b[49m\u001b[43mintegrand\u001b[49m\u001b[43m)\u001b[49m\n",
      "\u001b[36mFile \u001b[39m\u001b[32m<__array_function__ internals>:200\u001b[39m, in \u001b[36msum\u001b[39m\u001b[34m(*args, **kwargs)\u001b[39m\n",
      "\u001b[36mFile \u001b[39m\u001b[32m/cvmfs/software.igwn.org/conda/envs/igwn-py311/lib/python3.11/site-packages/numpy/core/fromnumeric.py:2324\u001b[39m, in \u001b[36msum\u001b[39m\u001b[34m(a, axis, dtype, out, keepdims, initial, where)\u001b[39m\n\u001b[32m   2321\u001b[39m         \u001b[38;5;28;01mreturn\u001b[39;00m out\n\u001b[32m   2322\u001b[39m     \u001b[38;5;28;01mreturn\u001b[39;00m res\n\u001b[32m-> \u001b[39m\u001b[32m2324\u001b[39m \u001b[38;5;28;01mreturn\u001b[39;00m \u001b[43m_wrapreduction\u001b[49m\u001b[43m(\u001b[49m\u001b[43ma\u001b[49m\u001b[43m,\u001b[49m\u001b[43m \u001b[49m\u001b[43mnp\u001b[49m\u001b[43m.\u001b[49m\u001b[43madd\u001b[49m\u001b[43m,\u001b[49m\u001b[43m \u001b[49m\u001b[33;43m'\u001b[39;49m\u001b[33;43msum\u001b[39;49m\u001b[33;43m'\u001b[39;49m\u001b[43m,\u001b[49m\u001b[43m \u001b[49m\u001b[43maxis\u001b[49m\u001b[43m,\u001b[49m\u001b[43m \u001b[49m\u001b[43mdtype\u001b[49m\u001b[43m,\u001b[49m\u001b[43m \u001b[49m\u001b[43mout\u001b[49m\u001b[43m,\u001b[49m\u001b[43m \u001b[49m\u001b[43mkeepdims\u001b[49m\u001b[43m=\u001b[49m\u001b[43mkeepdims\u001b[49m\u001b[43m,\u001b[49m\n\u001b[32m   2325\u001b[39m \u001b[43m                      \u001b[49m\u001b[43minitial\u001b[49m\u001b[43m=\u001b[49m\u001b[43minitial\u001b[49m\u001b[43m,\u001b[49m\u001b[43m \u001b[49m\u001b[43mwhere\u001b[49m\u001b[43m=\u001b[49m\u001b[43mwhere\u001b[49m\u001b[43m)\u001b[49m\n",
      "\u001b[36mFile \u001b[39m\u001b[32m/cvmfs/software.igwn.org/conda/envs/igwn-py311/lib/python3.11/site-packages/numpy/core/fromnumeric.py:86\u001b[39m, in \u001b[36m_wrapreduction\u001b[39m\u001b[34m(obj, ufunc, method, axis, dtype, out, **kwargs)\u001b[39m\n\u001b[32m     83\u001b[39m         \u001b[38;5;28;01melse\u001b[39;00m:\n\u001b[32m     84\u001b[39m             \u001b[38;5;28;01mreturn\u001b[39;00m reduction(axis=axis, out=out, **passkwargs)\n\u001b[32m---> \u001b[39m\u001b[32m86\u001b[39m \u001b[38;5;28;01mreturn\u001b[39;00m \u001b[43mufunc\u001b[49m\u001b[43m.\u001b[49m\u001b[43mreduce\u001b[49m\u001b[43m(\u001b[49m\u001b[43mobj\u001b[49m\u001b[43m,\u001b[49m\u001b[43m \u001b[49m\u001b[43maxis\u001b[49m\u001b[43m,\u001b[49m\u001b[43m \u001b[49m\u001b[43mdtype\u001b[49m\u001b[43m,\u001b[49m\u001b[43m \u001b[49m\u001b[43mout\u001b[49m\u001b[43m,\u001b[49m\u001b[43m \u001b[49m\u001b[43m*\u001b[49m\u001b[43m*\u001b[49m\u001b[43mpasskwargs\u001b[49m\u001b[43m)\u001b[49m\n",
      "\u001b[31mKeyboardInterrupt\u001b[39m: "
     ]
    }
   ],
   "source": []
  },
  {
   "cell_type": "code",
   "execution_count": 17,
   "id": "de0486c4-d80c-459c-937f-4c5ba4e3fcae",
   "metadata": {},
   "outputs": [],
   "source": [
    "psd_file = './gwpy_psd_deepclean.txt'\n",
    "if psd_data_frame is not None:\n",
    "    if psd_data_channel == None:\n",
    "        psd_data = TimeSeries.read(\n",
    "            psd_data_frame, \n",
    "            start = psd_start_time, \n",
    "            end = psd_end_time\n",
    "        )\n",
    "    else:\n",
    "        psd_data = TimeSeries.read(\n",
    "            psd_data_frame, psd_data_channel, \n",
    "            start = psd_start_time, \n",
    "            end = psd_end_time\n",
    "        )\n",
    "\n",
    "    psd_gwpy = get_gwpy_mean_psd (\n",
    "        psd_data, \n",
    "        fs = sampling_frequency, \n",
    "        low_frequency=minimum_frequency,\n",
    "        fftlength=32, \n",
    "        method = 'welch'\n",
    "    )\n",
    "\n",
    "    np.savetxt(\n",
    "        fname = psd_file, \n",
    "        X = np.array([ psd_gwpy[0][:-1], psd_gwpy[1][:-1] ]).T\n",
    "    )"
   ]
  },
  {
   "cell_type": "code",
   "execution_count": null,
   "id": "4e593135-dd34-4283-90b2-53c84a98dc93",
   "metadata": {},
   "outputs": [],
   "source": []
  },
  {
   "cell_type": "markdown",
   "id": "9e8f444e-1b2e-4ba4-8d3c-958774aca54d",
   "metadata": {},
   "source": [
    "## offset calculation for a different injection"
   ]
  },
  {
   "cell_type": "code",
   "execution_count": null,
   "id": "b87789c7-e487-473a-8a49-54671c0c2a0c",
   "metadata": {},
   "outputs": [],
   "source": [
    "inj_idx = 20\n",
    "analysis_data_frame = signal_only\n",
    "analysis_data_channel = channel_INJ\n",
    "psd_data_frame = org_noise_only\n",
    "psd_data_channel = channel\n",
    "det = \"V1\"\n",
    "duration = 4\n",
    "postmerger_duration = 1\n",
    "psd_duration = 512\n",
    "sampling_frequency = 4096\n",
    "minimum_frequency = 10\n",
    "maximum_frequency = 2048\n",
    "reference_frequency = 20\n",
    "geocent_time_correction = 0\n",
    "psd_file = './gwpy_psd_original.txt'\n",
    "\n",
    "injection_parameters = injections.iloc[inj_idx].to_dict()\n",
    "#injection_parameters['geocent_time'] =  injection_parameters['geocent_time'] # + geocent_time_correction\n",
    "param_dict = injection_parameters\n",
    "\n",
    "mc_inj = bilby.gw.conversion.component_masses_to_chirp_mass(injection_parameters['mass_1'], injection_parameters['mass_2'])\n",
    "z = bilby.gw.conversion.luminosity_distance_to_redshift(injection_parameters['luminosity_distance'])\n",
    "\n",
    "\n",
    "trigger_time= injections['geocent_time'][inj_idx] #+ geocent_time_correction ## FIX\n",
    "premerger_duration = duration - postmerger_duration\n",
    "start_time = trigger_time - premerger_duration\n",
    "end_time   = start_time + duration\n",
    "psd_start_time = start_time + 8\n",
    "psd_end_time = psd_start_time + psd_duration\n",
    "#trigger_time = end_time - 1\n",
    "\n",
    "waveform_approximant=\"IMRPhenomPv2\"\n",
    "\n",
    "if analysis_data_channel == None:\n",
    "    analysis_data = TimeSeries.read(\n",
    "        analysis_data_frame, \n",
    "        start = start_time, \n",
    "        end = end_time\n",
    "    )\n",
    "else:\n",
    "    analysis_data = TimeSeries.read(\n",
    "        analysis_data_frame, \n",
    "        analysis_data_channel,\n",
    "        start = start_time, \n",
    "        end = end_time\n",
    "    )\n",
    "\n",
    "waveform_arguments=dict(minimum_frequency=10.0)\n",
    "params_new, _ = convert_to_lal_binary_black_hole_parameters(injection_parameters)\n",
    "chirp_time = lalsim.SimInspiralChirpTimeBound(\n",
    "    10,\n",
    "    params_new[\"mass_1\"] * lal.MSUN_SI,\n",
    "    params_new[\"mass_2\"] * lal.MSUN_SI,\n",
    "    params_new[\"a_1\"] * np.cos(params_new[\"tilt_1\"]),\n",
    "    params_new[\"a_2\"] * np.cos(params_new[\"tilt_2\"]),\n",
    ")\n",
    "chirp_time = max(2 ** (int(np.log2(chirp_time)) + 1), duration)\n",
    "offset_parameter = 0.2  ## FIX\n",
    "waveform_generator = bilby.gw.WaveformGenerator(\n",
    "    duration=chirp_time,\n",
    "    sampling_frequency=sampling_frequency,\n",
    "    start_time=injection_parameters[\"geocent_time\"] + offset_parameter - chirp_time,\n",
    "    frequency_domain_source_model=lal_binary_black_hole,\n",
    "    parameter_conversion=convert_to_lal_binary_black_hole_parameters,\n",
    "    waveform_arguments=dict(minimum_frequency=10.0),\n",
    ")\n",
    "\n",
    "ifos = bilby.gw.detector.InterferometerList([det])\n",
    "ifos[0].strain_data.set_from_gwpy_timeseries(analysis_data)\n",
    "ifos[0].power_spectral_density.psd_file = psd_file\n",
    "\n",
    "time_min = injection_parameters['geocent_time']-0.001\n",
    "time_max = injection_parameters['geocent_time']+0.001\n",
    "\n",
    "\n",
    "priors = BBHPriorDict()\n",
    "# priors['chirp_mass']  = bilby.core.prior.Uniform(\n",
    "#     name='chirp_mass', minimum=mc_prior_min, maximum=mc_prior_max, unit='$M_{\\odot}$', boundary='reflective')\n",
    "for key in ['a_1', 'a_2', 'tilt_1', 'tilt_2', 'phi_12', 'phi_jl', 'psi', 'ra',\n",
    "            'dec', 'phase', 'theta_jn', 'luminosity_distance']:\n",
    "    priors[key] = injection_parameters[key]  ## FIX\n",
    "    \n",
    "priors['geocent_time'] = bilby.core.prior.Uniform(\n",
    "     name='geocent_time', \n",
    "     minimum= time_min, \n",
    "     maximum= time_max, \n",
    "     boundary='reflective')\n",
    "priors['mass_ratio'] = bilby.gw.conversion.component_masses_to_mass_ratio(injection_parameters['mass_1'], injection_parameters['mass_2'])\n",
    "priors['chirp_mass'] = mc_inj\n",
    "\n",
    "likelihood = bilby.gw.GravitationalWaveTransient(\n",
    "        interferometers=ifos, \n",
    "        waveform_generator=waveform_generator,\n",
    "        reference_frame= 'sky',\n",
    "        time_reference= 'geocent',\n",
    "        time_marginalization = False,\n",
    "        distance_marginalization = False, \n",
    "        jitter_time= False,\n",
    "        phase_marginalization = False,\n",
    "        priors = priors)    \n",
    "\n",
    "\n",
    "grid = np.linspace(time_min, time_max, 10000) #  3000)\n",
    "LLR = np.zeros(grid.shape)\n",
    "\n",
    "mass_ratio = bilby.gw.conversion.component_masses_to_mass_ratio(param_dict['mass_1'], param_dict['mass_2'])\n",
    "mtot = bilby.gw.conversion.chirp_mass_and_mass_ratio_to_total_mass(mc_inj,mass_ratio)\n",
    "m1, m2 = bilby.gw.conversion.total_mass_and_mass_ratio_to_component_masses(mass_ratio, mtot)\n",
    "param_dict['mass_1'] = m1\n",
    "param_dict['mass_2'] = m2\n",
    "\n",
    "for i in range(len(LLR)):\n",
    "    param_dict['geocent_time'] = grid[i]\n",
    "    likelihood.parameters = param_dict\n",
    "\n",
    "    LLR[i] = likelihood.log_likelihood_ratio()\n",
    "\n",
    "posterior = np.exp(LLR-max(LLR))\n",
    "plt.plot(grid, posterior)\n",
    "plt.axvline(trigger_time)\n",
    "plt.xlim(trigger_time-0.0002, trigger_time+0.0002)\n",
    "print(\"the offset in time is : \", grid[np.argmax(posterior)] - trigger_time)"
   ]
  },
  {
   "cell_type": "code",
   "execution_count": null,
   "id": "394bb01b-be8c-45eb-935e-b35a2ac11175",
   "metadata": {},
   "outputs": [],
   "source": [
    "inj_idx = 20\n",
    "analysis_data_frame = signal_only\n",
    "analysis_data_channel = channel_INJ\n",
    "psd_data_frame = org_noise_only\n",
    "psd_data_channel = channel\n",
    "det = \"V1\"\n",
    "duration = 4\n",
    "postmerger_duration = 1\n",
    "psd_duration = 512\n",
    "sampling_frequency = 4096\n",
    "minimum_frequency = 10\n",
    "maximum_frequency = 2048\n",
    "reference_frequency = 20\n",
    "#geocent_time_correction = 0.00011706352233886719\n",
    "geocent_time_correction = 3.170967102050781e-05\n",
    "psd_file = './gwpy_psd_original.txt'\n",
    "\n",
    "injection_parameters = injections.iloc[inj_idx].to_dict()\n",
    "injection_parameters['geocent_time'] =  injection_parameters['geocent_time']  + geocent_time_correction\n",
    "param_dict = injection_parameters\n",
    "\n",
    "mc_inj = bilby.gw.conversion.component_masses_to_chirp_mass(injection_parameters['mass_1'], injection_parameters['mass_2'])\n",
    "z = bilby.gw.conversion.luminosity_distance_to_redshift(injection_parameters['luminosity_distance'])\n",
    "\n",
    "\n",
    "trigger_time= injections['geocent_time'][inj_idx] #+ geocent_time_correction ## FIX\n",
    "premerger_duration = duration - postmerger_duration\n",
    "start_time = trigger_time - premerger_duration\n",
    "end_time   = start_time + duration\n",
    "psd_start_time = start_time + 8\n",
    "psd_end_time = psd_start_time + psd_duration\n",
    "#trigger_time = end_time - 1\n",
    "\n",
    "waveform_approximant=\"IMRPhenomPv2\"\n",
    "\n",
    "if analysis_data_channel == None:\n",
    "    analysis_data = TimeSeries.read(\n",
    "        analysis_data_frame, \n",
    "        start = start_time, \n",
    "        end = end_time\n",
    "    )\n",
    "else:\n",
    "    analysis_data = TimeSeries.read(\n",
    "        analysis_data_frame, \n",
    "        analysis_data_channel,\n",
    "        start = start_time, \n",
    "        end = end_time\n",
    "    )\n",
    "\n",
    "waveform_arguments=dict(minimum_frequency=10.0)\n",
    "params_new, _ = convert_to_lal_binary_black_hole_parameters(injection_parameters)\n",
    "chirp_time = lalsim.SimInspiralChirpTimeBound(\n",
    "    10,\n",
    "    params_new[\"mass_1\"] * lal.MSUN_SI,\n",
    "    params_new[\"mass_2\"] * lal.MSUN_SI,\n",
    "    params_new[\"a_1\"] * np.cos(params_new[\"tilt_1\"]),\n",
    "    params_new[\"a_2\"] * np.cos(params_new[\"tilt_2\"]),\n",
    ")\n",
    "chirp_time = max(2 ** (int(np.log2(chirp_time)) + 1), duration)\n",
    "offset_parameter = 0.2  ## FIX\n",
    "waveform_generator = bilby.gw.WaveformGenerator(\n",
    "    duration=chirp_time,\n",
    "    sampling_frequency=sampling_frequency,\n",
    "    start_time=injection_parameters[\"geocent_time\"] + offset_parameter - chirp_time,\n",
    "    frequency_domain_source_model=lal_binary_black_hole,\n",
    "    parameter_conversion=convert_to_lal_binary_black_hole_parameters,\n",
    "    waveform_arguments=dict(minimum_frequency=10.0),\n",
    ")\n",
    "\n",
    "ifos = bilby.gw.detector.InterferometerList([det])\n",
    "ifos[0].strain_data.set_from_gwpy_timeseries(analysis_data)\n",
    "ifos[0].power_spectral_density.psd_file = psd_file\n",
    "\n",
    "mc_prior_min = mc_inj - 0.03\n",
    "mc_prior_max = mc_inj + 0.03\n",
    "\n",
    "\n",
    "priors = BBHPriorDict()\n",
    "priors['chirp_mass']  = bilby.core.prior.Uniform(\n",
    "    name='chirp_mass', minimum=mc_prior_min, maximum=mc_prior_max, unit='$M_{\\odot}$', boundary='reflective')\n",
    "for key in ['a_1', 'a_2', 'tilt_1', 'tilt_2', 'phi_12', 'phi_jl', 'psi', 'ra',\n",
    "            'dec', 'phase', 'theta_jn', 'luminosity_distance']:\n",
    "    priors[key] = injection_parameters[key]  ## FIX\n",
    "    \n",
    "priors['geocent_time'] = injection_parameters['geocent_time'] \n",
    "priors['mass_ratio'] = bilby.gw.conversion.component_masses_to_mass_ratio(injection_parameters['mass_1'], injection_parameters['mass_2'])\n",
    "\n",
    "likelihood = bilby.gw.GravitationalWaveTransient(\n",
    "        interferometers=ifos, \n",
    "        waveform_generator=waveform_generator,\n",
    "        reference_frame= 'sky',\n",
    "        time_reference= 'geocent',\n",
    "        time_marginalization = False,\n",
    "        distance_marginalization = False, \n",
    "        jitter_time= False,\n",
    "        phase_marginalization = False,\n",
    "        priors = priors)    \n",
    "\n",
    "\n",
    "Mc_min = max(5, mc_inj - 0.03)\n",
    "Mc_max = min(90, mc_inj + 0.03)\n",
    "mc_grid = np.linspace(Mc_min, Mc_max,1000)\n",
    "LLR = np.zeros(mc_grid.shape)\n",
    "\n",
    "for i in range(len(LLR)):\n",
    "    mass_ratio = bilby.gw.conversion.component_masses_to_mass_ratio(param_dict['mass_1'], param_dict['mass_2'])\n",
    "    mtot = bilby.gw.conversion.chirp_mass_and_mass_ratio_to_total_mass(mc_grid[i],mass_ratio)\n",
    "    m1, m2 = bilby.gw.conversion.total_mass_and_mass_ratio_to_component_masses(mass_ratio, mtot)\n",
    "    param_dict['mass_1'] = m1\n",
    "    param_dict['mass_2'] = m2\n",
    "    likelihood.parameters = param_dict\n",
    "\n",
    "    LLR[i] = likelihood.log_likelihood_ratio()"
   ]
  },
  {
   "cell_type": "code",
   "execution_count": null,
   "id": "fcc0da71-5c3d-42f4-b4e8-54a75f62b9a3",
   "metadata": {},
   "outputs": [],
   "source": [
    "plt.plot(mc_grid, np.exp(LLR-max(LLR)))\n",
    "plt.axvline(mc_inj)\n",
    "plt.xlim(mc_inj-0.01, mc_inj+0.01)"
   ]
  },
  {
   "cell_type": "markdown",
   "id": "84905f00-3688-4e5b-a45a-5d1a10ca99ae",
   "metadata": {},
   "source": [
    "## Recovering one with noise but before DeepClean application"
   ]
  },
  {
   "cell_type": "code",
   "execution_count": null,
   "id": "d7c16649-cea6-4dc6-9b03-9d40cdd35e6c",
   "metadata": {},
   "outputs": [],
   "source": [
    "inj_idx = 20\n",
    "analysis_data_frame = org_noise_plus_signal\n",
    "analysis_data_channel = channel\n",
    "psd_data_frame = org_noise_only\n",
    "psd_data_channel = channel\n",
    "det = \"V1\"\n",
    "duration = 4\n",
    "postmerger_duration = 1\n",
    "psd_duration = 512\n",
    "sampling_frequency = 4096\n",
    "minimum_frequency = 10\n",
    "maximum_frequency = 2048\n",
    "reference_frequency = 20\n",
    "#geocent_time_correction = 0.00011706352233886719\n",
    "geocent_time_correction = 3.170967102050781e-05\n",
    "psd_file = './gwpy_psd_original.txt'\n",
    "\n",
    "injection_parameters = injections.iloc[inj_idx].to_dict()\n",
    "injection_parameters['geocent_time'] =  injection_parameters['geocent_time']  + geocent_time_correction\n",
    "param_dict = injection_parameters\n",
    "\n",
    "mc_inj = bilby.gw.conversion.component_masses_to_chirp_mass(injection_parameters['mass_1'], injection_parameters['mass_2'])\n",
    "z = bilby.gw.conversion.luminosity_distance_to_redshift(injection_parameters['luminosity_distance'])\n",
    "\n",
    "\n",
    "trigger_time= injections['geocent_time'][inj_idx] #+ geocent_time_correction ## FIX\n",
    "premerger_duration = duration - postmerger_duration\n",
    "start_time = trigger_time - premerger_duration\n",
    "end_time   = start_time + duration\n",
    "psd_start_time = start_time + 8\n",
    "psd_end_time = psd_start_time + psd_duration\n",
    "#trigger_time = end_time - 1\n",
    "\n",
    "waveform_approximant=\"IMRPhenomPv2\"\n",
    "\n",
    "if analysis_data_channel == None:\n",
    "    analysis_data = TimeSeries.read(\n",
    "        analysis_data_frame, \n",
    "        start = start_time, \n",
    "        end = end_time\n",
    "    )\n",
    "else:\n",
    "    analysis_data = TimeSeries.read(\n",
    "        analysis_data_frame, \n",
    "        analysis_data_channel,\n",
    "        start = start_time, \n",
    "        end = end_time\n",
    "    )\n",
    "\n",
    "waveform_arguments=dict(minimum_frequency=10.0)\n",
    "params_new, _ = convert_to_lal_binary_black_hole_parameters(injection_parameters)\n",
    "chirp_time = lalsim.SimInspiralChirpTimeBound(\n",
    "    10,\n",
    "    params_new[\"mass_1\"] * lal.MSUN_SI,\n",
    "    params_new[\"mass_2\"] * lal.MSUN_SI,\n",
    "    params_new[\"a_1\"] * np.cos(params_new[\"tilt_1\"]),\n",
    "    params_new[\"a_2\"] * np.cos(params_new[\"tilt_2\"]),\n",
    ")\n",
    "chirp_time = max(2 ** (int(np.log2(chirp_time)) + 1), duration)\n",
    "offset_parameter = 0.2  ## FIX\n",
    "waveform_generator = bilby.gw.WaveformGenerator(\n",
    "    duration=chirp_time,\n",
    "    sampling_frequency=sampling_frequency,\n",
    "    start_time=injection_parameters[\"geocent_time\"] + offset_parameter - chirp_time,\n",
    "    frequency_domain_source_model=lal_binary_black_hole,\n",
    "    parameter_conversion=convert_to_lal_binary_black_hole_parameters,\n",
    "    waveform_arguments=dict(minimum_frequency=10.0),\n",
    ")\n",
    "\n",
    "ifos = bilby.gw.detector.InterferometerList([det])\n",
    "ifos[0].strain_data.set_from_gwpy_timeseries(analysis_data)\n",
    "ifos[0].power_spectral_density.psd_file = psd_file\n",
    "\n",
    "mc_prior_min = mc_inj - 0.03\n",
    "mc_prior_max = mc_inj + 0.03\n",
    "\n",
    "\n",
    "priors = BBHPriorDict()\n",
    "priors['chirp_mass']  = bilby.core.prior.Uniform(\n",
    "    name='chirp_mass', minimum=mc_prior_min, maximum=mc_prior_max, unit='$M_{\\odot}$', boundary='reflective')\n",
    "for key in ['a_1', 'a_2', 'tilt_1', 'tilt_2', 'phi_12', 'phi_jl', 'psi', 'ra',\n",
    "            'dec', 'phase', 'theta_jn', 'luminosity_distance']:\n",
    "    priors[key] = injection_parameters[key]  ## FIX\n",
    "    \n",
    "priors['geocent_time'] = injection_parameters['geocent_time'] \n",
    "priors['mass_ratio'] = bilby.gw.conversion.component_masses_to_mass_ratio(injection_parameters['mass_1'], injection_parameters['mass_2'])\n",
    "\n",
    "likelihood = bilby.gw.GravitationalWaveTransient(\n",
    "        interferometers=ifos, \n",
    "        waveform_generator=waveform_generator,\n",
    "        reference_frame= 'sky',\n",
    "        time_reference= 'geocent',\n",
    "        time_marginalization = False,\n",
    "        distance_marginalization = False, \n",
    "        jitter_time= False,\n",
    "        phase_marginalization = False,\n",
    "        priors = priors)    \n",
    "\n",
    "\n",
    "Mc_min = max(5, mc_inj - 0.03)\n",
    "Mc_max = min(90, mc_inj + 0.03)\n",
    "mc_grid = np.linspace(Mc_min, Mc_max,1000)\n",
    "LLR = np.zeros(mc_grid.shape)\n",
    "\n",
    "for i in range(len(LLR)):\n",
    "    mass_ratio = bilby.gw.conversion.component_masses_to_mass_ratio(param_dict['mass_1'], param_dict['mass_2'])\n",
    "    mtot = bilby.gw.conversion.chirp_mass_and_mass_ratio_to_total_mass(mc_grid[i],mass_ratio)\n",
    "    m1, m2 = bilby.gw.conversion.total_mass_and_mass_ratio_to_component_masses(mass_ratio, mtot)\n",
    "    param_dict['mass_1'] = m1\n",
    "    param_dict['mass_2'] = m2\n",
    "    likelihood.parameters = param_dict\n",
    "\n",
    "    LLR[i] = likelihood.log_likelihood_ratio()"
   ]
  },
  {
   "cell_type": "code",
   "execution_count": null,
   "id": "4b7acc68-991c-4d40-a0fa-09263256abe5",
   "metadata": {},
   "outputs": [],
   "source": [
    "plt.plot(mc_grid, np.exp(LLR-max(LLR)))\n",
    "plt.axvline(mc_inj)\n",
    "plt.xlim(mc_inj-0.01, mc_inj+0.01)"
   ]
  },
  {
   "cell_type": "code",
   "execution_count": null,
   "id": "e75c6ab7-82a6-472d-b702-2f13e38176eb",
   "metadata": {},
   "outputs": [],
   "source": [
    "inj_idx = 20\n",
    "analysis_data_frame = dc_noise_plus_signal\n",
    "analysis_data_channel = channel_DC\n",
    "psd_data_frame = org_noise_only\n",
    "psd_data_channel = channel\n",
    "det = \"V1\"\n",
    "duration = 4\n",
    "postmerger_duration = 1\n",
    "psd_duration = 512\n",
    "sampling_frequency = 4096\n",
    "minimum_frequency = 10\n",
    "maximum_frequency = 2048\n",
    "reference_frequency = 20\n",
    "#geocent_time_correction = 0.00011706352233886719\n",
    "geocent_time_correction = 3.170967102050781e-05\n",
    "psd_file = './gwpy_psd_deepclean.txt'\n",
    "\n",
    "injection_parameters = injections.iloc[inj_idx].to_dict()\n",
    "injection_parameters['geocent_time'] =  injection_parameters['geocent_time']  + geocent_time_correction\n",
    "param_dict = injection_parameters\n",
    "\n",
    "mc_inj = bilby.gw.conversion.component_masses_to_chirp_mass(injection_parameters['mass_1'], injection_parameters['mass_2'])\n",
    "z = bilby.gw.conversion.luminosity_distance_to_redshift(injection_parameters['luminosity_distance'])\n",
    "\n",
    "\n",
    "trigger_time= injections['geocent_time'][inj_idx] #+ geocent_time_correction ## FIX\n",
    "premerger_duration = duration - postmerger_duration\n",
    "start_time = trigger_time - premerger_duration\n",
    "end_time   = start_time + duration\n",
    "psd_start_time = start_time + 8\n",
    "psd_end_time = psd_start_time + psd_duration\n",
    "#trigger_time = end_time - 1\n",
    "\n",
    "waveform_approximant=\"IMRPhenomPv2\"\n",
    "\n",
    "if analysis_data_channel == None:\n",
    "    analysis_data = TimeSeries.read(\n",
    "        analysis_data_frame, \n",
    "        start = start_time, \n",
    "        end = end_time\n",
    "    )\n",
    "else:\n",
    "    analysis_data = TimeSeries.read(\n",
    "        analysis_data_frame, \n",
    "        analysis_data_channel,\n",
    "        start = start_time, \n",
    "        end = end_time\n",
    "    )\n",
    "\n",
    "waveform_arguments=dict(minimum_frequency=10.0)\n",
    "params_new, _ = convert_to_lal_binary_black_hole_parameters(injection_parameters)\n",
    "chirp_time = lalsim.SimInspiralChirpTimeBound(\n",
    "    10,\n",
    "    params_new[\"mass_1\"] * lal.MSUN_SI,\n",
    "    params_new[\"mass_2\"] * lal.MSUN_SI,\n",
    "    params_new[\"a_1\"] * np.cos(params_new[\"tilt_1\"]),\n",
    "    params_new[\"a_2\"] * np.cos(params_new[\"tilt_2\"]),\n",
    ")\n",
    "chirp_time = max(2 ** (int(np.log2(chirp_time)) + 1), duration)\n",
    "offset_parameter = 0.2  ## FIX\n",
    "waveform_generator = bilby.gw.WaveformGenerator(\n",
    "    duration=chirp_time,\n",
    "    sampling_frequency=sampling_frequency,\n",
    "    start_time=injection_parameters[\"geocent_time\"] + offset_parameter - chirp_time,\n",
    "    frequency_domain_source_model=lal_binary_black_hole,\n",
    "    parameter_conversion=convert_to_lal_binary_black_hole_parameters,\n",
    "    waveform_arguments=dict(minimum_frequency=10.0),\n",
    ")\n",
    "\n",
    "ifos = bilby.gw.detector.InterferometerList([det])\n",
    "ifos[0].strain_data.set_from_gwpy_timeseries(analysis_data)\n",
    "ifos[0].power_spectral_density.psd_file = psd_file\n",
    "\n",
    "mc_prior_min = mc_inj - 0.03\n",
    "mc_prior_max = mc_inj + 0.03\n",
    "\n",
    "\n",
    "priors = BBHPriorDict()\n",
    "priors['chirp_mass']  = bilby.core.prior.Uniform(\n",
    "    name='chirp_mass', minimum=mc_prior_min, maximum=mc_prior_max, unit='$M_{\\odot}$', boundary='reflective')\n",
    "for key in ['a_1', 'a_2', 'tilt_1', 'tilt_2', 'phi_12', 'phi_jl', 'psi', 'ra',\n",
    "            'dec', 'phase', 'theta_jn', 'luminosity_distance']:\n",
    "    priors[key] = injection_parameters[key]  ## FIX\n",
    "    \n",
    "priors['geocent_time'] = injection_parameters['geocent_time'] \n",
    "priors['mass_ratio'] = bilby.gw.conversion.component_masses_to_mass_ratio(injection_parameters['mass_1'], injection_parameters['mass_2'])\n",
    "\n",
    "likelihood = bilby.gw.GravitationalWaveTransient(\n",
    "        interferometers=ifos, \n",
    "        waveform_generator=waveform_generator,\n",
    "        reference_frame= 'sky',\n",
    "        time_reference= 'geocent',\n",
    "        time_marginalization = False,\n",
    "        distance_marginalization = False, \n",
    "        jitter_time= False,\n",
    "        phase_marginalization = False,\n",
    "        priors = priors)    \n",
    "\n",
    "\n",
    "Mc_min = max(5, mc_inj - 0.03)\n",
    "Mc_max = min(90, mc_inj + 0.03)\n",
    "mc_grid = np.linspace(Mc_min, Mc_max,10000) #1000)\n",
    "LLR = np.zeros(mc_grid.shape)\n",
    "\n",
    "for i in range(len(LLR)):\n",
    "    mass_ratio = bilby.gw.conversion.component_masses_to_mass_ratio(param_dict['mass_1'], param_dict['mass_2'])\n",
    "    mtot = bilby.gw.conversion.chirp_mass_and_mass_ratio_to_total_mass(mc_grid[i],mass_ratio)\n",
    "    m1, m2 = bilby.gw.conversion.total_mass_and_mass_ratio_to_component_masses(mass_ratio, mtot)\n",
    "    param_dict['mass_1'] = m1\n",
    "    param_dict['mass_2'] = m2\n",
    "    likelihood.parameters = param_dict\n",
    "\n",
    "    LLR[i] = likelihood.log_likelihood_ratio()"
   ]
  },
  {
   "cell_type": "code",
   "execution_count": null,
   "id": "c6ed5427-a0ae-4691-9d62-257987cc6e24",
   "metadata": {},
   "outputs": [],
   "source": [
    "plt.plot(mc_grid, np.exp(LLR-max(LLR)))\n",
    "plt.axvline(mc_inj)\n",
    "plt.xlim(mc_inj-0.01, mc_inj+0.01)"
   ]
  },
  {
   "cell_type": "markdown",
   "id": "7c1e7eb6-e30b-4e09-bf6c-74cd5c368d62",
   "metadata": {},
   "source": [
    "## find corrections for all the injections"
   ]
  },
  {
   "cell_type": "code",
   "execution_count": null,
   "id": "ad4be98a-ee9f-4e79-b12a-f20eb89dad14",
   "metadata": {},
   "outputs": [],
   "source": [
    "analysis_data_frame = signal_only\n",
    "analysis_data_channel = channel_INJ\n",
    "psd_data_frame = org_noise_only\n",
    "psd_data_channel = channel\n",
    "det = \"V1\"\n",
    "duration = 4\n",
    "postmerger_duration = 1\n",
    "psd_duration = 512\n",
    "sampling_frequency = 4096\n",
    "minimum_frequency = 10\n",
    "maximum_frequency = 2048\n",
    "reference_frequency = 20\n",
    "geocent_time_correction = 0\n",
    "psd_file = './gwpy_psd_original.txt'\n",
    "waveform_approximant=\"IMRPhenomPv2\"\n",
    "\n",
    "time_offsets = np.zeros([128])\n",
    "for inj_idx in trange(1, 128):\n",
    "    injection_parameters = injections.iloc[inj_idx].to_dict()\n",
    "    param_dict = injection_parameters\n",
    "\n",
    "    mc_inj = bilby.gw.conversion.component_masses_to_chirp_mass(injection_parameters['mass_1'], injection_parameters['mass_2'])\n",
    "    z = bilby.gw.conversion.luminosity_distance_to_redshift(injection_parameters['luminosity_distance'])\n",
    "\n",
    "\n",
    "    trigger_time= injections['geocent_time'][inj_idx] #+ geocent_time_correction ## FIX\n",
    "    premerger_duration = duration - postmerger_duration\n",
    "    start_time = trigger_time - premerger_duration\n",
    "    end_time   = start_time + duration\n",
    "\n",
    "\n",
    "    analysis_data = TimeSeries.read(\n",
    "        analysis_data_frame, \n",
    "        analysis_data_channel,\n",
    "        start = start_time, \n",
    "        end = end_time\n",
    "    )\n",
    "\n",
    "    waveform_arguments=dict(minimum_frequency=10.0)\n",
    "    params_new, _ = convert_to_lal_binary_black_hole_parameters(injection_parameters)\n",
    "    chirp_time = lalsim.SimInspiralChirpTimeBound(\n",
    "        10,\n",
    "        params_new[\"mass_1\"] * lal.MSUN_SI,\n",
    "        params_new[\"mass_2\"] * lal.MSUN_SI,\n",
    "        params_new[\"a_1\"] * np.cos(params_new[\"tilt_1\"]),\n",
    "        params_new[\"a_2\"] * np.cos(params_new[\"tilt_2\"]),\n",
    "    )\n",
    "\n",
    "    chirp_time = max(2 ** (int(np.log2(chirp_time)) + 1), duration)\n",
    "    offset_parameter = 0.2  ## FIX\n",
    "    waveform_generator = bilby.gw.WaveformGenerator(\n",
    "        duration=chirp_time,\n",
    "        sampling_frequency=sampling_frequency,\n",
    "        start_time=injection_parameters[\"geocent_time\"] + offset_parameter - chirp_time,\n",
    "        frequency_domain_source_model=lal_binary_black_hole,\n",
    "        parameter_conversion=convert_to_lal_binary_black_hole_parameters,\n",
    "        waveform_arguments=dict(minimum_frequency=10.0),\n",
    "    )\n",
    "\n",
    "    ifos = bilby.gw.detector.InterferometerList([det])\n",
    "    ifos[0].strain_data.set_from_gwpy_timeseries(analysis_data)\n",
    "    ifos[0].power_spectral_density.psd_file = psd_file\n",
    "\n",
    "    time_min = injection_parameters['geocent_time']-0.003\n",
    "    time_max = injection_parameters['geocent_time']+0.003\n",
    "\n",
    "\n",
    "    priors = BBHPriorDict()\n",
    "    # priors['chirp_mass']  = bilby.core.prior.Uniform(\n",
    "    #     name='chirp_mass', minimum=mc_prior_min, maximum=mc_prior_max, unit='$M_{\\odot}$', boundary='reflective')\n",
    "    for key in ['a_1', 'a_2', 'tilt_1', 'tilt_2', 'phi_12', 'phi_jl', 'psi', 'ra',\n",
    "                'dec', 'phase', 'theta_jn', 'luminosity_distance']:\n",
    "        priors[key] = injection_parameters[key]  ## FIX\n",
    "\n",
    "    priors['geocent_time'] = bilby.core.prior.Uniform(\n",
    "         name='geocent_time', \n",
    "         minimum= time_min, \n",
    "         maximum= time_max, \n",
    "         boundary='reflective')\n",
    "    priors['mass_ratio'] = bilby.gw.conversion.component_masses_to_mass_ratio(injection_parameters['mass_1'], injection_parameters['mass_2'])\n",
    "    priors['chirp_mass'] = mc_inj\n",
    "\n",
    "    likelihood = bilby.gw.GravitationalWaveTransient(\n",
    "            interferometers=ifos, \n",
    "            waveform_generator=waveform_generator,\n",
    "            reference_frame= 'sky',\n",
    "            time_reference= 'geocent',\n",
    "            time_marginalization = False,\n",
    "            distance_marginalization = False, \n",
    "            jitter_time= False,\n",
    "            phase_marginalization = False,\n",
    "            priors = priors)    \n",
    "\n",
    "\n",
    "    grid = np.linspace(time_min, time_max, 10000) #5000)\n",
    "    LLR = np.zeros(grid.shape)\n",
    "\n",
    "    mass_ratio = bilby.gw.conversion.component_masses_to_mass_ratio(param_dict['mass_1'], param_dict['mass_2'])\n",
    "    mtot = bilby.gw.conversion.chirp_mass_and_mass_ratio_to_total_mass(mc_inj,mass_ratio)\n",
    "    m1, m2 = bilby.gw.conversion.total_mass_and_mass_ratio_to_component_masses(mass_ratio, mtot)\n",
    "    param_dict['mass_1'] = m1\n",
    "    param_dict['mass_2'] = m2\n",
    "\n",
    "    for i in range(len(LLR)):\n",
    "        param_dict['geocent_time'] = grid[i]\n",
    "        likelihood.parameters = param_dict\n",
    "\n",
    "        LLR[i] = likelihood.log_likelihood_ratio()\n",
    "\n",
    "    posterior = np.exp(LLR-max(LLR))\n",
    "    time_offsets[inj_idx] = grid[np.argmax(posterior)] - trigger_time\n",
    "    if np.mod(inj_idx, 20) == 1:\n",
    "        plt.figure(figsize=(10,10))\n",
    "        subplot_idx = 1\n",
    "    plt.subplot(5,4,subplot_idx)\n",
    "    subplot_idx += 1\n",
    "    plt.plot(grid, posterior)\n",
    "    plt.axvline(trigger_time)\n",
    "    plt.xlim(trigger_time-0.0002, trigger_time+0.0002)\n",
    "    print(\"the offset in time is : \", time_offsets[inj_idx])\n",
    "    \n",
    "    \n",
    "    "
   ]
  },
  {
   "cell_type": "code",
   "execution_count": null,
   "id": "0c4e8e62-48bb-4626-81d4-f8770ec3dab3",
   "metadata": {},
   "outputs": [],
   "source": [
    "time_offsets\n"
   ]
  },
  {
   "cell_type": "code",
   "execution_count": null,
   "id": "6c8f8c62-0a37-4cb8-a9ca-e73cc53f6ecf",
   "metadata": {},
   "outputs": [],
   "source": [
    "np.savetxt(X = time_offsets, fname='offsets.txt')"
   ]
  },
  {
   "cell_type": "code",
   "execution_count": null,
   "id": "3f525fad-5d2a-43b0-becc-81e22b043db1",
   "metadata": {},
   "outputs": [],
   "source": []
  },
  {
   "cell_type": "code",
   "execution_count": null,
   "id": "bebf976f-624d-4b16-8e83-cea1b41f49d1",
   "metadata": {},
   "outputs": [],
   "source": []
  }
 ],
 "metadata": {
  "kernelspec": {
   "display_name": "igwn-py311",
   "language": "python",
   "name": "igwn-py311"
  },
  "language_info": {
   "codemirror_mode": {
    "name": "ipython",
    "version": 3
   },
   "file_extension": ".py",
   "mimetype": "text/x-python",
   "name": "python",
   "nbconvert_exporter": "python",
   "pygments_lexer": "ipython3",
   "version": "3.11.13"
  }
 },
 "nbformat": 4,
 "nbformat_minor": 5
}
