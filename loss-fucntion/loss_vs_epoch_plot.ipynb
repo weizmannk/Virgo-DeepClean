{
 "cells": [
  {
   "cell_type": "markdown",
   "id": "9a24681f-98e9-4625-904b-3ccc39ad482b",
   "metadata": {},
   "source": [
    "# LOSS Function plot VS Epoch"
   ]
  },
  {
   "cell_type": "code",
   "execution_count": 1,
   "id": "6d5c5a5a-df9a-4ec1-af15-f917e2c0f237",
   "metadata": {},
   "outputs": [],
   "source": [
    "# Import necessary libraries\n",
    "import os\n",
    "import sys\n",
    "import numpy as np\n",
    "import matplotlib.pyplot as plt"
   ]
  },
  {
   "cell_type": "code",
   "execution_count": 2,
   "id": "ddecf027-c9a5-4986-a44a-d22431bb6790",
   "metadata": {},
   "outputs": [
    {
     "name": "stderr",
     "output_type": "stream",
     "text": [
      "/cvmfs/software.igwn.org/conda/envs/igwn-py39/lib/python3.9/site-packages/pandas/core/computation/expressions.py:21: UserWarning: Pandas requires version '2.8.4' or newer of 'numexpr' (version '2.7.3' currently installed).\n",
      "  from pandas.core.computation.check import NUMEXPR_INSTALLED\n"
     ]
    }
   ],
   "source": [
    "import seaborn as sns"
   ]
  },
  {
   "cell_type": "markdown",
   "id": "7ed1b033-16b1-4d67-89ff-c316660da149",
   "metadata": {},
   "source": [
    "## Loading and Validating Data function"
   ]
  },
  {
   "cell_type": "code",
   "execution_count": 3,
   "id": "0e007459-1791-44a2-aa5a-200485164996",
   "metadata": {},
   "outputs": [],
   "source": [
    "def load_data(file_path, delimiter=',', skip_header=1):\n",
    "    \"\"\"\n",
    "    Load data from a .dat file.\n",
    "\n",
    "    Parameters:\n",
    "        file_path (str): Path to the .dat file.\n",
    "        delimiter (str): Delimiter used in the file.\n",
    "        skip_header (int): Number of lines to skip at the beginning of the file.\n",
    "\n",
    "    Returns:\n",
    "        np.ndarray: Loaded data as a NumPy array.\n",
    "    \"\"\"\n",
    "    if not os.path.isfile(file_path):\n",
    "        print(f\"Error: File '{file_path}' does not exist.\")\n",
    "        sys.exit(1)\n",
    "    \n",
    "    try:\n",
    "        data = np.loadtxt(file_path, delimiter=delimiter, skiprows=skip_header)\n",
    "    except Exception as e:\n",
    "        print(f\"Error loading data from '{file_path}': {e}\")\n",
    "        sys.exit(1)\n",
    "    \n",
    "    return data\n"
   ]
  },
  {
   "cell_type": "markdown",
   "id": "3503d4dd-e80f-4318-bbd7-1e6581bf1340",
   "metadata": {},
   "source": [
    "## Load the Data"
   ]
  },
  {
   "cell_type": "code",
   "execution_count": 4,
   "id": "bfc6e47c-b70e-46e3-a79f-445acfd85b42",
   "metadata": {},
   "outputs": [
    {
     "data": {
      "text/plain": [
       "array([[2.3000e+02, 1.0000e+00, 7.5160e-01, 6.8566e-01],\n",
       "       [4.6000e+02, 2.0000e+00, 6.7153e-01, 6.7251e-01],\n",
       "       [6.9000e+02, 3.0000e+00, 6.2348e-01, 5.8270e-01],\n",
       "       [9.2000e+02, 4.0000e+00, 5.6098e-01, 5.2597e-01],\n",
       "       [1.1500e+03, 5.0000e+00, 5.1929e-01, 4.7976e-01],\n",
       "       [1.3800e+03, 6.0000e+00, 4.8494e-01, 4.6183e-01],\n",
       "       [1.6100e+03, 7.0000e+00, 4.6950e-01, 4.5999e-01],\n",
       "       [1.8400e+03, 8.0000e+00, 4.5878e-01, 4.5432e-01],\n",
       "       [2.0700e+03, 9.0000e+00, 4.5072e-01, 4.4860e-01],\n",
       "       [2.3000e+03, 1.0000e+01, 4.4498e-01, 4.5330e-01],\n",
       "       [2.5300e+03, 1.1000e+01, 4.4091e-01, 4.4213e-01],\n",
       "       [2.7600e+03, 1.2000e+01, 4.0846e-01, 4.0545e-01],\n",
       "       [2.9900e+03, 1.3000e+01, 4.0423e-01, 4.0426e-01],\n",
       "       [3.2200e+03, 1.4000e+01, 4.0289e-01, 4.0346e-01],\n",
       "       [3.4500e+03, 1.5000e+01, 4.0214e-01, 4.0289e-01],\n",
       "       [3.6800e+03, 1.6000e+01, 4.0165e-01, 4.0244e-01],\n",
       "       [3.9100e+03, 1.7000e+01, 4.0128e-01, 4.0213e-01],\n",
       "       [4.1400e+03, 1.8000e+01, 4.0097e-01, 4.0184e-01],\n",
       "       [4.3700e+03, 1.9000e+01, 4.0070e-01, 4.0163e-01],\n",
       "       [4.6000e+03, 2.0000e+01, 4.0046e-01, 4.0133e-01],\n",
       "       [4.8300e+03, 2.1000e+01, 4.0025e-01, 4.0124e-01],\n",
       "       [5.0600e+03, 2.2000e+01, 3.9558e-01, 3.9612e-01],\n",
       "       [5.2900e+03, 2.3000e+01, 3.9462e-01, 3.9603e-01],\n",
       "       [5.5200e+03, 2.4000e+01, 3.9452e-01, 3.9597e-01],\n",
       "       [5.7500e+03, 2.5000e+01, 3.9444e-01, 3.9591e-01],\n",
       "       [5.9800e+03, 2.6000e+01, 3.9437e-01, 3.9588e-01],\n",
       "       [6.2100e+03, 2.7000e+01, 3.9430e-01, 3.9585e-01],\n",
       "       [6.4400e+03, 2.8000e+01, 3.9423e-01, 3.9582e-01],\n",
       "       [6.6700e+03, 2.9000e+01, 3.9417e-01, 3.9580e-01],\n",
       "       [6.9000e+03, 3.0000e+01, 3.9411e-01, 3.9579e-01]])"
      ]
     },
     "execution_count": 4,
     "metadata": {},
     "output_type": "execute_result"
    }
   ],
   "source": [
    "# Define the path to the data file\n",
    "\n",
    "data_file = 'loss_55-65_Hz_2048.dat'\n",
    "\n",
    "# Load the data\n",
    "data = load_data(data_file, delimiter=',', skip_header=1)\n",
    "data"
   ]
  },
  {
   "cell_type": "markdown",
   "id": "3c5d86af-cc32-4da5-8d7a-3b90d9e430bd",
   "metadata": {},
   "source": [
    "### Extract Relevant Columns"
   ]
  },
  {
   "cell_type": "code",
   "execution_count": 5,
   "id": "a3bb01f2-90af-487a-8c65-dbaf1231fbe6",
   "metadata": {},
   "outputs": [
    {
     "data": {
      "text/plain": [
       "array([ 1.,  2.,  3.,  4.,  5.,  6.,  7.,  8.,  9., 10., 11., 12., 13.,\n",
       "       14., 15., 16., 17., 18., 19., 20., 21., 22., 23., 24., 25., 26.,\n",
       "       27., 28., 29., 30.])"
      ]
     },
     "execution_count": 5,
     "metadata": {},
     "output_type": "execute_result"
    }
   ],
   "source": [
    "# Extract columns\n",
    "# Step     Epochs    Train     Test\n",
    "epochs = data[:, 1]       # Second column for epochs\n",
    "train_loss = data[:, 2]   # Third column for train loss\n",
    "test_loss = data[:, 3]    # Fourth column for test loss\n",
    "\n",
    "epochs"
   ]
  },
  {
   "cell_type": "markdown",
   "id": "53015f89-05d6-4ca2-8d4e-05f8680bd72f",
   "metadata": {},
   "source": [
    "##  Configuring Plot"
   ]
  },
  {
   "cell_type": "code",
   "execution_count": 15,
   "id": "5a963820-9815-4c9b-bae7-abc786a7a768",
   "metadata": {},
   "outputs": [],
   "source": [
    "sns.set(style=\"whitegrid\")  # Options: \"darkgrid\", \"whitegrid\", \"ticks\", etc.\n",
    "\n",
    "plt.rcParams.update({\n",
    "    'text.usetex': True,       # Requires LaTeX installation\n",
    "    'font.family': 'serif',\n",
    "    'font.size': 14,\n",
    "    'axes.labelweight': 'bold',\n",
    "    'axes.titlesize': 16,\n",
    "    'legend.fontsize': 14,\n",
    "    'figure.titlesize': 16\n",
    "})\n"
   ]
  },
  {
   "cell_type": "code",
   "execution_count": 16,
   "id": "da9b45d2-cc14-4426-ade2-5981cf4e76d5",
   "metadata": {},
   "outputs": [
    {
     "data": {
      "text/plain": [
       "<Figure size 2400x900 with 0 Axes>"
      ]
     },
     "execution_count": 16,
     "metadata": {},
     "output_type": "execute_result"
    },
    {
     "data": {
      "text/plain": [
       "<Figure size 2400x900 with 0 Axes>"
      ]
     },
     "metadata": {},
     "output_type": "display_data"
    }
   ],
   "source": [
    "plt.figure(figsize=(8, 3), dpi=300)"
   ]
  },
  {
   "cell_type": "code",
   "execution_count": 17,
   "id": "ad2e1b9f-c07d-44d7-a75c-d2645a8f478b",
   "metadata": {},
   "outputs": [
    {
     "name": "stdout",
     "output_type": "stream",
     "text": [
      "Plots saved in PNG, PDF, and EPS formats.\n"
     ]
    },
    {
     "data": {
      "image/png": "[encoded data removed]",
      "text/plain": [
       "<Figure size 640x480 with 1 Axes>"
      ]
     },
     "metadata": {},
     "output_type": "display_data"
    }
   ],
   "source": [
    "\n",
    "# Plot Train Loss\n",
    "plt.plot(\n",
    "    epochs, train_loss,\n",
    "    label=\"Train Loss\",\n",
    "    # marker=\"o\",\n",
    "    linestyle=\"-\",\n",
    "    linewidth=2,\n",
    "    markersize=6,\n",
    "    color='tab:blue'\n",
    ")\n",
    "\n",
    "# Plot Test Loss\n",
    "plt.plot(\n",
    "    epochs, test_loss,\n",
    "    label=\"Test Loss\",\n",
    "    # marker=\"s\",\n",
    "    linestyle=\"--\",\n",
    "    linewidth=2,\n",
    "    markersize=6,\n",
    "    color='tab:orange' \n",
    ")\n",
    "\n",
    "# Set labels and title \n",
    "plt.xlabel(\"Epoch\", fontsize=14, fontweight='bold')\n",
    "plt.ylabel(\"Loss\", fontsize=14, fontweight='bold')\n",
    "plt.title(\"Loss Function Convergence\", fontsize=16, fontweight='bold')\n",
    "\n",
    "\n",
    "plt.grid(True, linestyle=\"--\", alpha=0.6)\n",
    "plt.legend(fontsize=12)\n",
    "\n",
    "plt.tight_layout()\n",
    "\n",
    "for ext in ['png', 'pdf']:\n",
    "    plt.savefig(f\"loss_function_convergence.{ext}\", dpi=300, bbox_inches='tight')\n",
    "print(\"Plots saved in PNG, PDF, and EPS formats.\")"
   ]
  },
  {
   "cell_type": "code",
   "execution_count": null,
   "id": "54c4d2af-c4e6-42bd-a33e-17d61a2458e0",
   "metadata": {},
   "outputs": [],
   "source": []
  }
 ],
 "metadata": {
  "kernelspec": {
   "display_name": "Python 3 (ipykernel)",
   "language": "python",
   "name": "python3"
  },
  "language_info": {
   "codemirror_mode": {
    "name": "ipython",
    "version": 3
   },
   "file_extension": ".py",
   "mimetype": "text/x-python",
   "name": "python",
   "nbconvert_exporter": "python",
   "pygments_lexer": "ipython3",
   "version": "3.10.12"
  }
 },
 "nbformat": 4,
 "nbformat_minor": 5
}
