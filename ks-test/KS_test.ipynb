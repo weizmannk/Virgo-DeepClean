{
 "cells": [
  {
   "cell_type": "code",
   "execution_count": 23,
   "id": "2b5188be-4807-48d9-ba5a-97c551a8167d",
   "metadata": {},
   "outputs": [],
   "source": [
    "import json\n",
    "import numpy as np\n",
    "import matplotlib.pyplot as plt\n",
    "from scipy.stats import ks_2samp\n",
    "import scipy\n",
    "\n",
    "\n",
    "from collections import namedtuple\n",
    "\n",
    "import logging\n",
    "logging.basicConfig(level=logging.INFO, format=\"%(levelname)s: %(message)s\")\n",
    "logger = logging.getLogger('bilby')"
   ]
  },
  {
   "cell_type": "code",
   "execution_count": 24,
   "id": "18262e1c-8a92-43aa-852c-b64dcb028af9",
   "metadata": {},
   "outputs": [],
   "source": [
    "param_list_short = ['chirp_mass','mass_ratio', 'a_1', 'a_2', 'theta_jn', 'luminosity_distance']\n",
    "param_labels = [r\"$\\mathcal{M}_c$\", r\"$q$\", r\"$a_1$\", r\"$a_2$\", r\"$\\theta_{jn}$\", r\"$d_L$\"]\n"
   ]
  },
  {
   "cell_type": "code",
   "execution_count": 25,
   "id": "91df0f55",
   "metadata": {},
   "outputs": [],
   "source": [
    "with open(\"credible_levels.json\", \"r\") as f:\n",
    "    data = json.load(f)"
   ]
  },
  {
   "cell_type": "code",
   "execution_count": 26,
   "id": "d9692560",
   "metadata": {},
   "outputs": [
    {
     "data": {
      "text/plain": [
       "dict_keys(['chirp_mass', 'mass_ratio', 'a_1', 'a_2', 'theta_jn', 'luminosity_distance'])"
      ]
     },
     "execution_count": 26,
     "metadata": {},
     "output_type": "execute_result"
    }
   ],
   "source": [
    "data.keys()"
   ]
  },
  {
   "cell_type": "code",
   "execution_count": 34,
   "id": "efe0537d",
   "metadata": {},
   "outputs": [
    {
     "name": "stderr",
     "output_type": "stream",
     "text": [
      "INFO: Process: Unclean\n",
      "INFO: Key: KS-test p-value\n",
      "INFO:   chirp_mass: 0.361\n",
      "INFO:   mass_ratio: 0.0275\n",
      "INFO:   a_1: 0.00213\n",
      "INFO:   a_2: 0.00115\n",
      "INFO:   theta_jn: 5.45e-07\n",
      "INFO:   luminosity_distance: 1.46e-06\n",
      "INFO:   Combined p-value: 3.47e-14\n",
      "INFO: ========================================\n",
      "\n",
      "INFO: Process: DeepClean\n",
      "INFO: Key: KS-test p-value\n",
      "INFO:   chirp_mass: 0.54\n",
      "INFO:   mass_ratio: 0.679\n",
      "INFO:   a_1: 0.265\n",
      "INFO:   a_2: 0.312\n",
      "INFO:   theta_jn: 0.0371\n",
      "INFO:   luminosity_distance: 0.00585\n",
      "INFO:   Combined p-value: 0.0212\n",
      "INFO: ========================================\n",
      "\n"
     ]
    }
   ],
   "source": [
    "x_values = np.linspace(0, 1, 1001)\n",
    "for process in [\"Unclean\", \"DeepClean\"]:\n",
    "\n",
    "    credible_levels = {\n",
    "        col: np.asarray(data[col][process])\n",
    "        for col in param_list_short\n",
    "    }\n",
    "\n",
    "    pvalues = []\n",
    "    logger.info(f\"Process: {process}\")\n",
    "    logger.info(\"Key: KS-test p-value\")\n",
    "\n",
    "    for key, values in credible_levels.items():\n",
    "        # PP-plot empirical CDF\n",
    "        pp = np.array([\n",
    "            np.sum(values < xx) / len(values)\n",
    "            for xx in x_values\n",
    "        ])\n",
    "\n",
    "        # KS-test vs uniform\n",
    "        pvalue = scipy.stats.kstest(values, 'uniform').pvalue\n",
    "        pvalues.append(pvalue)\n",
    "        logger.info(f\"  {key}: {pvalue:.3g}\")\n",
    "\n",
    "    # combine p-value \n",
    "    combined_p = scipy.stats.combine_pvalues(pvalues)[1]\n",
    "    logger.info(f\"  {'Combined p-value'}: {combined_p:.3g}\")\n",
    "\n",
    "    # store results neatly in a namedtuple\n",
    "    Pvals = namedtuple('pvals', ['combined_pvalue', 'pvalues', 'names'])\n",
    "    pvals = Pvals(\n",
    "        combined_pvalue=combined_p,\n",
    "        pvalues=pvalues,\n",
    "        names=list(credible_levels.keys())\n",
    "    )\n",
    "\n",
    "    logger.info(f\"{'='*40}\\n\")"
   ]
  },
  {
   "cell_type": "code",
   "execution_count": 22,
   "id": "fe21edf1-443d-480e-b308-9832d5302800",
   "metadata": {},
   "outputs": [],
   "source": [
    "# for k, col in enumerate(param_list_short):\n",
    "#     fig, ax = plt.subplots()\n",
    "\n",
    "#     # Histogrammes PDF\n",
    "#     ax.hist(\n",
    "#         [data[col][\"Unclean\"], data[col][\"DeepClean\"]],\n",
    "#         label=['Unclean', 'DeepClean'],\n",
    "#         histtype='step',\n",
    "#         density=1,\n",
    "#         bins=50)\n",
    "#     ax.set_ylim(0, None)\n",
    "#     ax.set_ylabel('pdf')\n",
    "    \n",
    "#     # CDF\n",
    "#     ax2 = ax.twinx()\n",
    "#     ax2.set_ylabel('cdf')\n",
    "#     ax2.set_ylim(0, 1)\n",
    "#     ax2.plot(np.sort(data[col][\"Unclean\"]), np.linspace(0, 1, len(data[col][\"Unclean\"])), label='Unclean')\n",
    "#     ax2.plot(np.sort(data[col][\"DeepClean\"]), np.linspace(0, 1, len(data[col][\"DeepClean\"])), label='DeepClean')\n",
    "    \n",
    "#     # Legend\n",
    "#     ax.legend(loc='lower right')\n",
    "#     ax2.legend(loc='upper right')\n",
    "\n",
    "#     # KS test\n",
    "#     stat, pvalue = ks_2samp(data[col][\"Unclean\"], data[col][\"DeepClean\"])\n",
    "#     ax.set_xlabel(param_labels[k])\n",
    "#     ax.set_title(f'K-S test statistic={stat:0.3f}, P-value={pvalue:0.3g}')\n",
    "#     fig.savefig(f'ks_{col}.png', dpi=300)"
   ]
  },
  {
   "cell_type": "code",
   "execution_count": null,
   "id": "79177d9c",
   "metadata": {},
   "outputs": [],
   "source": []
  }
 ],
 "metadata": {
  "kernelspec": {
   "display_name": "gwpopulation",
   "language": "python",
   "name": "python3"
  },
  "language_info": {
   "codemirror_mode": {
    "name": "ipython",
    "version": 3
   },
   "file_extension": ".py",
   "mimetype": "text/x-python",
   "name": "python",
   "nbconvert_exporter": "python",
   "pygments_lexer": "ipython3",
   "version": "3.11.13"
  }
 },
 "nbformat": 4,
 "nbformat_minor": 5
}
