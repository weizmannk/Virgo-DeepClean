{
 "cells": [
  {
   "cell_type": "code",
   "execution_count": null,
   "id": "158a51d9",
   "metadata": {},
   "outputs": [],
   "source": [
    "import pickle\n",
    "import json\n",
    "from scipy.interpolate import interp1d\n",
    "import os\n",
    "import numpy as np\n",
    "import pandas as pd"
   ]
  },
  {
   "cell_type": "code",
   "execution_count": null,
   "id": "0a8dad16",
   "metadata": {},
   "outputs": [],
   "source": [
    "def compute_injection_credible_level (x, prob_x, x_inj):    \n",
    "\n",
    "    credible_level = np.sum(prob_x[x<x_inj])/np.sum(prob_x)\n",
    "    credible_level = np.array(credible_level)\n",
    "    credible_level[credible_level>0.5] = 1 - credible_level[credible_level>0.5]\n",
    "    credible_level *= 2\n",
    "    return credible_level"
   ]
  },
  {
   "cell_type": "code",
   "execution_count": null,
   "id": "7c5a8ea8",
   "metadata": {},
   "outputs": [],
   "source": [
    "def np_to_json(o):\n",
    "    if isinstance(o, np.ndarray):\n",
    "        return o.item() if o.shape == () else o.tolist()\n",
    "    if isinstance(o, (np.floating,)): return float(o)\n",
    "    if isinstance(o, (np.integer,)):  return int(o)\n",
    "    if isinstance(o, (np.bool_,)):    return bool(o)\n",
    "    return o  # dict, list, str, float, int, None"
   ]
  },
  {
   "cell_type": "code",
   "execution_count": null,
   "id": "1229df05",
   "metadata": {},
   "outputs": [],
   "source": [
    "dict_of_dicts = {}\n",
    "param_list_short = ['chirp_mass','mass_ratio', 'a_1', 'a_2', 'theta_jn', 'luminosity_distance']\n",
    "param_labels = [r\"$\\mathcal{M}_c$\", r\"$q$\", r\"$a_1$\", r\"$a_2$\", r\"$\\theta_{jn}$\", r\"$d_L$\"]"
   ]
  },
  {
   "cell_type": "code",
   "execution_count": null,
   "id": "103a4365",
   "metadata": {},
   "outputs": [],
   "source": [
    "# Iterate through all parameters\n",
    "for k, param in enumerate(param_list_short):\n",
    "    credible_level_dict = {}\n",
    "    \n",
    "    # Process 'Unclean' data\n",
    "    credible_levels = []\n",
    "    for i in range(1, 128):\n",
    "        with open(f\"posteriors/unclean/results_{i}.pkl\", 'rb') as file:\n",
    "            loaded_data = pickle.load(file)\n",
    "        pdf_interp = interp1d(loaded_data[f'grid_{param}'], loaded_data[f'pdf_{param}'])\n",
    "        cl = compute_injection_credible_level(pdf_interp.x, pdf_interp.y, loaded_data[f'inj_{param}'])    \n",
    "        credible_levels.append(cl)\n",
    "    credible_level_dict['Unclean'] = credible_levels\n",
    "\n",
    "    # Process 'DeepClean' data\n",
    "    credible_levels = []\n",
    "    for i in range(1, 128):\n",
    "        with open(f\"posteriors/deepclean/results_{i}.pkl\", 'rb') as file:\n",
    "            loaded_data = pickle.load(file)\n",
    "        pdf_interp = interp1d(loaded_data[f'grid_{param}'], loaded_data[f'pdf_{param}'])\n",
    "        cl = compute_injection_credible_level(pdf_interp.x, pdf_interp.y, loaded_data[f'inj_{param}'])    \n",
    "        credible_levels.append(cl)\n",
    "    credible_level_dict['DeepClean'] = credible_levels\n",
    "\n",
    "    # Add the credible level dictionary to the top-level dictionary\n",
    "    dict_of_dicts[param] = credible_level_dict\n"
   ]
  },
  {
   "cell_type": "code",
   "execution_count": null,
   "id": "45306b84",
   "metadata": {},
   "outputs": [],
   "source": [
    "with open(\"credible_levels.json\", \"w\") as f:\n",
    "    json.dump(dict_of_dicts, f, indent=2, default=np_to_json)"
   ]
  }
 ],
 "metadata": {
  "language_info": {
   "name": "python"
  }
 },
 "nbformat": 4,
 "nbformat_minor": 5
}
